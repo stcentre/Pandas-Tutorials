{
 "cells": [
  {
   "cell_type": "markdown",
   "metadata": {},
   "source": [
    "## This notebook consist of the conecpts of Pandas Series.\n",
    "Author:Amanpreet Singh\n",
    "(aman64039@gmail.com)"
   ]
  },
  {
   "cell_type": "code",
   "execution_count": 8,
   "metadata": {},
   "outputs": [],
   "source": [
    "import pandas as pd"
   ]
  },
  {
   "cell_type": "code",
   "execution_count": 9,
   "metadata": {},
   "outputs": [],
   "source": [
    "#creating pandas series from python list\n",
    "#to create a series we have a Constructer method in pandas name as Series which is going \n",
    "#to construct the Pandas Series\n",
    "l = [10,20,30,40,50,60,70]\n",
    "l2 = ['ABC','BCD','CDE','DEF']\n",
    "l3 = [15000.0,25000.0,35000.0,45000.0]\n",
    "s = pd.Series(l)\n",
    "s2 = pd.Series(l2)\n",
    "s3 = pd.Series(l3)\n"
   ]
  },
  {
   "cell_type": "code",
   "execution_count": 10,
   "metadata": {},
   "outputs": [],
   "source": [
    "#creating the pandas series from python dictionary\n",
    "webster = {'Aardvark':'An Animal',\n",
    "          'Apple':'A Fruit',\n",
    "          'Blue':'Colour '}\n",
    "s = pd.Series(webster)\n"
   ]
  },
  {
   "cell_type": "markdown",
   "metadata": {},
   "source": [
    "We have something named as Attributes and Methods.Attributes represent the behaviour or features of the object such as datatype of the series , index of the series , etc on the other hand methods are used to perform something or to do something such as sum of the series , product of the series. We can say that a method is that by which we can perform some operations to the object"
   ]
  },
  {
   "cell_type": "code",
   "execution_count": 11,
   "metadata": {},
   "outputs": [
    {
     "name": "stdout",
     "output_type": "stream",
     "text": [
      "0        Smart\n",
      "1     Handsome\n",
      "2     Charming\n",
      "3    Brilliant\n",
      "4       Humble\n",
      "dtype: object\n"
     ]
    },
    {
     "data": {
      "text/plain": [
       "dtype('O')"
      ]
     },
     "execution_count": 11,
     "metadata": {},
     "output_type": "execute_result"
    }
   ],
   "source": [
    "#Some of the attributes in Pandas Series\n",
    "about_me = [\"Smart\",\"Handsome\",\"Charming\",\"Brilliant\",\"Humble\"]\n",
    "s = pd.Series(about_me)\n",
    "print(s)\n",
    "#return the index of the series \n",
    "s.index\n",
    "#return the values of the series \n",
    "s.values\n",
    "#return the datatype of the series\n",
    "s.dtype\n"
   ]
  },
  {
   "cell_type": "code",
   "execution_count": 12,
   "metadata": {},
   "outputs": [
    {
     "data": {
      "text/plain": [
       "4"
      ]
     },
     "execution_count": 12,
     "metadata": {},
     "output_type": "execute_result"
    }
   ],
   "source": [
    "#Some of the methods in Pandas Series\n",
    "prices = [2.98,6.74,9.25,3.66]\n",
    "#return the pandas series in s variable \n",
    "s = pd.Series(prices)\n",
    "#return the sum of the series\n",
    "s.sum()\n",
    "#return the mean of the series\n",
    "s.mean()\n",
    "#return the product of the series \n",
    "s.product()\n",
    "#return the total elements in the series\n",
    "s.count()"
   ]
  },
  {
   "cell_type": "markdown",
   "metadata": {},
   "source": [
    "# Parameters and Arguments\n",
    "As we know Series is a constructer method in pandas which is going to construct a series. And we also know method consist of parameters and parameters takes values called Arguments.\n",
    "Before moving on technical example lets have an look for a real example by which we can properly undertsnd the concept.\n",
    "If i am talking abouth the videos game.we have something like \n",
    "#Difficulties : - Easy , Medium , Hard\n",
    "#volume : - 1 to 10\n",
    "@So in Programing term the option itself ie difficulties is called as parameters and the value ie easy , hard is known as arguments."
   ]
  },
  {
   "cell_type": "code",
   "execution_count": 13,
   "metadata": {},
   "outputs": [],
   "source": [
    "l = [10,20,30,40]\n",
    "#data , index , dtype , name these are some of the parameters in series\n",
    "#methods which consist of default arguments as None\n",
    "#By documentation\n",
    "#pd.Series(data=None,index=None,dtype=None,name=None,copy=False,fastpath=False,)\n",
    "s = pd.Series(data =l , index=['a','b','c','d'],dtype='float',name=\"Aman\" )\n",
    "s = pd.Series(l,['a','b','c','d'],'float',\"Amanpreet\")\n",
    "s = pd.Series(data =l , name=\"Aman\", index=['a','b','c','d'],dtype='float')\n"
   ]
  },
  {
   "cell_type": "code",
   "execution_count": 17,
   "metadata": {},
   "outputs": [
    {
     "ename": "FileNotFoundError",
     "evalue": "[Errno 2] File b'google_stock_price.csv' does not exist: b'google_stock_price.csv'",
     "output_type": "error",
     "traceback": [
      "\u001b[0;31m---------------------------------------------------------------------------\u001b[0m",
      "\u001b[0;31mFileNotFoundError\u001b[0m                         Traceback (most recent call last)",
      "\u001b[0;32m<ipython-input-17-d5dec77345dd>\u001b[0m in \u001b[0;36m<module>\u001b[0;34m\u001b[0m\n\u001b[1;32m      5\u001b[0m \u001b[0;31m#to we have to also tell pandas to act as a series instead of dataframe so we have to use\u001b[0m\u001b[0;34m\u001b[0m\u001b[0;34m\u001b[0m\u001b[0;34m\u001b[0m\u001b[0m\n\u001b[1;32m      6\u001b[0m \u001b[0;31m#another parameter name as squeeze which take bool argumet\u001b[0m\u001b[0;34m\u001b[0m\u001b[0;34m\u001b[0m\u001b[0;34m\u001b[0m\u001b[0m\n\u001b[0;32m----> 7\u001b[0;31m \u001b[0mgoogle\u001b[0m \u001b[0;34m=\u001b[0m \u001b[0mpd\u001b[0m\u001b[0;34m.\u001b[0m\u001b[0mread_csv\u001b[0m\u001b[0;34m(\u001b[0m\u001b[0;34m\"google_stock_price.csv\"\u001b[0m\u001b[0;34m)\u001b[0m\u001b[0;34m\u001b[0m\u001b[0;34m\u001b[0m\u001b[0m\n\u001b[0m\u001b[1;32m      8\u001b[0m \u001b[0mprint\u001b[0m\u001b[0;34m(\u001b[0m\u001b[0mgoogle\u001b[0m\u001b[0;34m)\u001b[0m\u001b[0;34m\u001b[0m\u001b[0;34m\u001b[0m\u001b[0m\n\u001b[1;32m      9\u001b[0m \u001b[0mprint\u001b[0m\u001b[0;34m(\u001b[0m\u001b[0mtype\u001b[0m\u001b[0;34m(\u001b[0m\u001b[0mgoogle\u001b[0m\u001b[0;34m)\u001b[0m\u001b[0;34m)\u001b[0m\u001b[0;34m\u001b[0m\u001b[0;34m\u001b[0m\u001b[0m\n",
      "\u001b[0;32m~/.local/lib/python3.6/site-packages/pandas/io/parsers.py\u001b[0m in \u001b[0;36mparser_f\u001b[0;34m(filepath_or_buffer, sep, delimiter, header, names, index_col, usecols, squeeze, prefix, mangle_dupe_cols, dtype, engine, converters, true_values, false_values, skipinitialspace, skiprows, skipfooter, nrows, na_values, keep_default_na, na_filter, verbose, skip_blank_lines, parse_dates, infer_datetime_format, keep_date_col, date_parser, dayfirst, cache_dates, iterator, chunksize, compression, thousands, decimal, lineterminator, quotechar, quoting, doublequote, escapechar, comment, encoding, dialect, error_bad_lines, warn_bad_lines, delim_whitespace, low_memory, memory_map, float_precision)\u001b[0m\n\u001b[1;32m    683\u001b[0m         )\n\u001b[1;32m    684\u001b[0m \u001b[0;34m\u001b[0m\u001b[0m\n\u001b[0;32m--> 685\u001b[0;31m         \u001b[0;32mreturn\u001b[0m \u001b[0m_read\u001b[0m\u001b[0;34m(\u001b[0m\u001b[0mfilepath_or_buffer\u001b[0m\u001b[0;34m,\u001b[0m \u001b[0mkwds\u001b[0m\u001b[0;34m)\u001b[0m\u001b[0;34m\u001b[0m\u001b[0;34m\u001b[0m\u001b[0m\n\u001b[0m\u001b[1;32m    686\u001b[0m \u001b[0;34m\u001b[0m\u001b[0m\n\u001b[1;32m    687\u001b[0m     \u001b[0mparser_f\u001b[0m\u001b[0;34m.\u001b[0m\u001b[0m__name__\u001b[0m \u001b[0;34m=\u001b[0m \u001b[0mname\u001b[0m\u001b[0;34m\u001b[0m\u001b[0;34m\u001b[0m\u001b[0m\n",
      "\u001b[0;32m~/.local/lib/python3.6/site-packages/pandas/io/parsers.py\u001b[0m in \u001b[0;36m_read\u001b[0;34m(filepath_or_buffer, kwds)\u001b[0m\n\u001b[1;32m    455\u001b[0m \u001b[0;34m\u001b[0m\u001b[0m\n\u001b[1;32m    456\u001b[0m     \u001b[0;31m# Create the parser.\u001b[0m\u001b[0;34m\u001b[0m\u001b[0;34m\u001b[0m\u001b[0;34m\u001b[0m\u001b[0m\n\u001b[0;32m--> 457\u001b[0;31m     \u001b[0mparser\u001b[0m \u001b[0;34m=\u001b[0m \u001b[0mTextFileReader\u001b[0m\u001b[0;34m(\u001b[0m\u001b[0mfp_or_buf\u001b[0m\u001b[0;34m,\u001b[0m \u001b[0;34m**\u001b[0m\u001b[0mkwds\u001b[0m\u001b[0;34m)\u001b[0m\u001b[0;34m\u001b[0m\u001b[0;34m\u001b[0m\u001b[0m\n\u001b[0m\u001b[1;32m    458\u001b[0m \u001b[0;34m\u001b[0m\u001b[0m\n\u001b[1;32m    459\u001b[0m     \u001b[0;32mif\u001b[0m \u001b[0mchunksize\u001b[0m \u001b[0;32mor\u001b[0m \u001b[0miterator\u001b[0m\u001b[0;34m:\u001b[0m\u001b[0;34m\u001b[0m\u001b[0;34m\u001b[0m\u001b[0m\n",
      "\u001b[0;32m~/.local/lib/python3.6/site-packages/pandas/io/parsers.py\u001b[0m in \u001b[0;36m__init__\u001b[0;34m(self, f, engine, **kwds)\u001b[0m\n\u001b[1;32m    893\u001b[0m             \u001b[0mself\u001b[0m\u001b[0;34m.\u001b[0m\u001b[0moptions\u001b[0m\u001b[0;34m[\u001b[0m\u001b[0;34m\"has_index_names\"\u001b[0m\u001b[0;34m]\u001b[0m \u001b[0;34m=\u001b[0m \u001b[0mkwds\u001b[0m\u001b[0;34m[\u001b[0m\u001b[0;34m\"has_index_names\"\u001b[0m\u001b[0;34m]\u001b[0m\u001b[0;34m\u001b[0m\u001b[0;34m\u001b[0m\u001b[0m\n\u001b[1;32m    894\u001b[0m \u001b[0;34m\u001b[0m\u001b[0m\n\u001b[0;32m--> 895\u001b[0;31m         \u001b[0mself\u001b[0m\u001b[0;34m.\u001b[0m\u001b[0m_make_engine\u001b[0m\u001b[0;34m(\u001b[0m\u001b[0mself\u001b[0m\u001b[0;34m.\u001b[0m\u001b[0mengine\u001b[0m\u001b[0;34m)\u001b[0m\u001b[0;34m\u001b[0m\u001b[0;34m\u001b[0m\u001b[0m\n\u001b[0m\u001b[1;32m    896\u001b[0m \u001b[0;34m\u001b[0m\u001b[0m\n\u001b[1;32m    897\u001b[0m     \u001b[0;32mdef\u001b[0m \u001b[0mclose\u001b[0m\u001b[0;34m(\u001b[0m\u001b[0mself\u001b[0m\u001b[0;34m)\u001b[0m\u001b[0;34m:\u001b[0m\u001b[0;34m\u001b[0m\u001b[0;34m\u001b[0m\u001b[0m\n",
      "\u001b[0;32m~/.local/lib/python3.6/site-packages/pandas/io/parsers.py\u001b[0m in \u001b[0;36m_make_engine\u001b[0;34m(self, engine)\u001b[0m\n\u001b[1;32m   1133\u001b[0m     \u001b[0;32mdef\u001b[0m \u001b[0m_make_engine\u001b[0m\u001b[0;34m(\u001b[0m\u001b[0mself\u001b[0m\u001b[0;34m,\u001b[0m \u001b[0mengine\u001b[0m\u001b[0;34m=\u001b[0m\u001b[0;34m\"c\"\u001b[0m\u001b[0;34m)\u001b[0m\u001b[0;34m:\u001b[0m\u001b[0;34m\u001b[0m\u001b[0;34m\u001b[0m\u001b[0m\n\u001b[1;32m   1134\u001b[0m         \u001b[0;32mif\u001b[0m \u001b[0mengine\u001b[0m \u001b[0;34m==\u001b[0m \u001b[0;34m\"c\"\u001b[0m\u001b[0;34m:\u001b[0m\u001b[0;34m\u001b[0m\u001b[0;34m\u001b[0m\u001b[0m\n\u001b[0;32m-> 1135\u001b[0;31m             \u001b[0mself\u001b[0m\u001b[0;34m.\u001b[0m\u001b[0m_engine\u001b[0m \u001b[0;34m=\u001b[0m \u001b[0mCParserWrapper\u001b[0m\u001b[0;34m(\u001b[0m\u001b[0mself\u001b[0m\u001b[0;34m.\u001b[0m\u001b[0mf\u001b[0m\u001b[0;34m,\u001b[0m \u001b[0;34m**\u001b[0m\u001b[0mself\u001b[0m\u001b[0;34m.\u001b[0m\u001b[0moptions\u001b[0m\u001b[0;34m)\u001b[0m\u001b[0;34m\u001b[0m\u001b[0;34m\u001b[0m\u001b[0m\n\u001b[0m\u001b[1;32m   1136\u001b[0m         \u001b[0;32melse\u001b[0m\u001b[0;34m:\u001b[0m\u001b[0;34m\u001b[0m\u001b[0;34m\u001b[0m\u001b[0m\n\u001b[1;32m   1137\u001b[0m             \u001b[0;32mif\u001b[0m \u001b[0mengine\u001b[0m \u001b[0;34m==\u001b[0m \u001b[0;34m\"python\"\u001b[0m\u001b[0;34m:\u001b[0m\u001b[0;34m\u001b[0m\u001b[0;34m\u001b[0m\u001b[0m\n",
      "\u001b[0;32m~/.local/lib/python3.6/site-packages/pandas/io/parsers.py\u001b[0m in \u001b[0;36m__init__\u001b[0;34m(self, src, **kwds)\u001b[0m\n\u001b[1;32m   1915\u001b[0m         \u001b[0mkwds\u001b[0m\u001b[0;34m[\u001b[0m\u001b[0;34m\"usecols\"\u001b[0m\u001b[0;34m]\u001b[0m \u001b[0;34m=\u001b[0m \u001b[0mself\u001b[0m\u001b[0;34m.\u001b[0m\u001b[0musecols\u001b[0m\u001b[0;34m\u001b[0m\u001b[0;34m\u001b[0m\u001b[0m\n\u001b[1;32m   1916\u001b[0m \u001b[0;34m\u001b[0m\u001b[0m\n\u001b[0;32m-> 1917\u001b[0;31m         \u001b[0mself\u001b[0m\u001b[0;34m.\u001b[0m\u001b[0m_reader\u001b[0m \u001b[0;34m=\u001b[0m \u001b[0mparsers\u001b[0m\u001b[0;34m.\u001b[0m\u001b[0mTextReader\u001b[0m\u001b[0;34m(\u001b[0m\u001b[0msrc\u001b[0m\u001b[0;34m,\u001b[0m \u001b[0;34m**\u001b[0m\u001b[0mkwds\u001b[0m\u001b[0;34m)\u001b[0m\u001b[0;34m\u001b[0m\u001b[0;34m\u001b[0m\u001b[0m\n\u001b[0m\u001b[1;32m   1918\u001b[0m         \u001b[0mself\u001b[0m\u001b[0;34m.\u001b[0m\u001b[0munnamed_cols\u001b[0m \u001b[0;34m=\u001b[0m \u001b[0mself\u001b[0m\u001b[0;34m.\u001b[0m\u001b[0m_reader\u001b[0m\u001b[0;34m.\u001b[0m\u001b[0munnamed_cols\u001b[0m\u001b[0;34m\u001b[0m\u001b[0;34m\u001b[0m\u001b[0m\n\u001b[1;32m   1919\u001b[0m \u001b[0;34m\u001b[0m\u001b[0m\n",
      "\u001b[0;32mpandas/_libs/parsers.pyx\u001b[0m in \u001b[0;36mpandas._libs.parsers.TextReader.__cinit__\u001b[0;34m()\u001b[0m\n",
      "\u001b[0;32mpandas/_libs/parsers.pyx\u001b[0m in \u001b[0;36mpandas._libs.parsers.TextReader._setup_parser_source\u001b[0;34m()\u001b[0m\n",
      "\u001b[0;31mFileNotFoundError\u001b[0m: [Errno 2] File b'google_stock_price.csv' does not exist: b'google_stock_price.csv'"
     ]
    }
   ],
   "source": [
    "#Import Series using read_csv Method\n",
    "pokemon = pd.read_csv(\"/home/aman/Pandas_Tutorial/datasets/pokemon.csv\", usecols=['Pokemon'],squeeze=True)\n",
    "#it consist of 2 columns so it will be dataframe so we are taking out only\n",
    "#1 coulumns here so that it will behave like a series and this can be done by using a parameter named as usecols\n",
    "#to we have to also tell pandas to act as a series instead of dataframe so we have to use \n",
    "#another parameter name as squeeze which take bool argumet\n",
    "google = pd.read_csv(\"google_stock_price.csv\")\n",
    "print(google)\n",
    "print(type(google))\n",
    "google = pd.read_csv(\"google_stock_price.csv\",squeeze=True)\n",
    "print(google)\n",
    "print(type(google))"
   ]
  },
  {
   "cell_type": "code",
   "execution_count": 36,
   "metadata": {},
   "outputs": [
    {
     "data": {
      "text/plain": [
       "711     Bergmite\n",
       "712      Avalugg\n",
       "713       Noibat\n",
       "714      Noivern\n",
       "715      Xerneas\n",
       "716      Yveltal\n",
       "717      Zygarde\n",
       "718      Diancie\n",
       "719        Hoopa\n",
       "720    Volcanion\n",
       "Name: Pokemon, dtype: object"
      ]
     },
     "execution_count": 36,
     "metadata": {},
     "output_type": "execute_result"
    }
   ],
   "source": [
    "#head and tail method of Pandas head represent first five and tail represent last five\n",
    "pokemon.head()\n",
    "pokemon.tail()\n",
    "pokemon.head(10)\n",
    "pokemon.tail(10)"
   ]
  },
  {
   "cell_type": "code",
   "execution_count": 41,
   "metadata": {},
   "outputs": [
    {
     "data": {
      "text/plain": [
       "49.95"
      ]
     },
     "execution_count": 41,
     "metadata": {},
     "output_type": "execute_result"
    }
   ],
   "source": [
    "#Some Python Built in functions\n",
    "#return the length of pandas series\n",
    "len(google)\n",
    "#return the type of series\n",
    "type(google)\n",
    "#return all avaible methods and Attributes availble for series\n",
    "dir(google)\n",
    "#return the sorted by values of series\n",
    "sorted(google)\n",
    "#return list from the series\n",
    "list(google)\n",
    "#return dict of the series index as keys and value as values\n",
    "dict(google)\n",
    "#return max of the series\n",
    "max(google)\n",
    "#return min of the series\n",
    "min(google)"
   ]
  },
  {
   "cell_type": "code",
   "execution_count": 49,
   "metadata": {},
   "outputs": [
    {
     "data": {
      "text/plain": [
       "721"
      ]
     },
     "execution_count": 49,
     "metadata": {},
     "output_type": "execute_result"
    }
   ],
   "source": [
    "#More Attributes of Pandas Series\n",
    "\n",
    "#return index of the series\n",
    "google.index\n",
    "#return values of the series\n",
    "google.values\n",
    "#return datatype of the series\n",
    "google.dtype\n",
    "#return the bool True or Flase if the series contain unique than true otherwise flase\n",
    "google.is_unique\n",
    "pokemon.is_unique\n",
    "#return dimension\n",
    "google.ndim\n",
    "#return shape of the series\n",
    "google.shape\n",
    "pokemon.shape\n",
    "#return the size\n",
    "google.size\n",
    "pokemon.size"
   ]
  },
  {
   "cell_type": "code",
   "execution_count": 58,
   "metadata": {},
   "outputs": [
    {
     "data": {
      "text/plain": [
       "3011    782.22\n",
       "3010    771.61\n",
       "3009    773.18\n",
       "3008    771.07\n",
       "3007    772.88\n",
       "         ...  \n",
       "4        52.95\n",
       "3        52.38\n",
       "2        54.65\n",
       "1        54.10\n",
       "0        50.12\n",
       "Name: Stock Price, Length: 3012, dtype: float64"
      ]
     },
     "execution_count": 58,
     "metadata": {},
     "output_type": "execute_result"
    }
   ],
   "source": [
    "#Sort in Pandas Series\n",
    "\n",
    "# return sorted series by index\n",
    "pokemon.sort_index()\n",
    "#return sorted series by values\n",
    "pokemon.sort_values()\n",
    "#sort consist of parameter name as asceddning and defualt argyment is True\n",
    "pokemon.sort_values(ascending=False)\n",
    "google.sort_index(ascending=False)"
   ]
  },
  {
   "cell_type": "code",
   "execution_count": 62,
   "metadata": {},
   "outputs": [
    {
     "name": "stdout",
     "output_type": "stream",
     "text": [
      "459    Abomasnow\n",
      "62          Abra\n",
      "358        Absol\n",
      "616     Accelgor\n",
      "680    Aegislash\n",
      "         ...    \n",
      "570      Zoroark\n",
      "569        Zorua\n",
      "40         Zubat\n",
      "633     Zweilous\n",
      "717      Zygarde\n",
      "Name: Pokemon, Length: 721, dtype: object\n",
      "459    Abomasnow\n",
      "62          Abra\n",
      "358        Absol\n",
      "616     Accelgor\n",
      "680    Aegislash\n",
      "         ...    \n",
      "570      Zoroark\n",
      "569        Zorua\n",
      "40         Zubat\n",
      "633     Zweilous\n",
      "717      Zygarde\n",
      "Name: Pokemon, Length: 721, dtype: object\n",
      "459    Abomasnow\n",
      "62          Abra\n",
      "358        Absol\n",
      "616     Accelgor\n",
      "680    Aegislash\n",
      "         ...    \n",
      "570      Zoroark\n",
      "569        Zorua\n",
      "40         Zubat\n",
      "633     Zweilous\n",
      "717      Zygarde\n",
      "Name: Pokemon, Length: 721, dtype: object\n"
     ]
    }
   ],
   "source": [
    "\"\"\"inplace parametrs which is actuallt avaible in multiple methods\n",
    "when it set as true it will overwrite the object in the orignal variable\n",
    "it basically overwrite the orignal variable to contain the new modified objects\n",
    "that we have \n",
    "\"\"\"\n",
    "print(pokemon)\n",
    "pokemon.sort_values()\n",
    "print(pokemon)\n",
    "pokemon.sort_values(inplace=True)\n",
    "print(pokemon)\n",
    "#its totally same like \n",
    "pokemon = pokemon.sort_values()"
   ]
  },
  {
   "cell_type": "code",
   "execution_count": 65,
   "metadata": {},
   "outputs": [
    {
     "data": {
      "text/plain": [
       "True"
      ]
     },
     "execution_count": 65,
     "metadata": {},
     "output_type": "execute_result"
    }
   ],
   "source": [
    "#Python In Keyword\n",
    "pokemon\n",
    "\n",
    "#the follwing written 2 condition return same output as in keyword \n",
    "#check with the index\n",
    "'Abomasnow' in pokemon\n",
    "'Abomasnow' in pokemon.index\n",
    "\n",
    "'Abomasnow' in pokemon.values"
   ]
  },
  {
   "cell_type": "code",
   "execution_count": 19,
   "metadata": {},
   "outputs": [],
   "source": [
    "#Extract Series by Index Value\n",
    "#Import Series using read_csv Method\n",
    "pokemon = pd.read_csv(\"/home/aman/Pandas_Tutorial/datasets/pokemon.csv\", usecols=['Pokemon'],squeeze=True)\n",
    "google = pd.read_csv(\"/home/aman/Pandas_Tutorial/datasets/google_stock_price.csv\",squeeze=True)\n"
   ]
  },
  {
   "cell_type": "code",
   "execution_count": 73,
   "metadata": {},
   "outputs": [
    {
     "data": {
      "text/plain": [
       "50       Dugtrio\n",
       "51        Meowth\n",
       "52       Persian\n",
       "53       Psyduck\n",
       "54       Golduck\n",
       "55        Mankey\n",
       "56      Primeape\n",
       "57     Growlithe\n",
       "58      Arcanine\n",
       "59       Poliwag\n",
       "60     Poliwhirl\n",
       "61     Poliwrath\n",
       "62          Abra\n",
       "63       Kadabra\n",
       "64      Alakazam\n",
       "65        Machop\n",
       "66       Machoke\n",
       "67       Machamp\n",
       "68    Bellsprout\n",
       "69    Weepinbell\n",
       "70    Victreebel\n",
       "71     Tentacool\n",
       "72    Tentacruel\n",
       "73       Geodude\n",
       "74      Graveler\n",
       "75         Golem\n",
       "76        Ponyta\n",
       "77      Rapidash\n",
       "78      Slowpoke\n",
       "79       Slowbro\n",
       "80     Magnemite\n",
       "81      Magneton\n",
       "82    Farfetch'd\n",
       "83         Doduo\n",
       "84        Dodrio\n",
       "85          Seel\n",
       "86       Dewgong\n",
       "87        Grimer\n",
       "88           Muk\n",
       "89      Shellder\n",
       "90      Cloyster\n",
       "91        Gastly\n",
       "92       Haunter\n",
       "93        Gengar\n",
       "94          Onix\n",
       "95       Drowzee\n",
       "96         Hypno\n",
       "97        Krabby\n",
       "98       Kingler\n",
       "99       Voltorb\n",
       "Name: Pokemon, dtype: object"
      ]
     },
     "execution_count": 73,
     "metadata": {},
     "output_type": "execute_result"
    }
   ],
   "source": [
    "#return pokemon at 0th index\n",
    "pokemon[0]\n",
    "#return pokemon at 500th index\n",
    "pokemon[500]\n",
    "#return pokemon at 100th , 200th and 300th index\n",
    "pokemon[[100,200,300]]\n",
    "#return pokemon from 50 to 100 index\n",
    "pokemon[50:100]"
   ]
  },
  {
   "cell_type": "code",
   "execution_count": 20,
   "metadata": {},
   "outputs": [
    {
     "name": "stderr",
     "output_type": "stream",
     "text": [
      "/home/aman/.local/lib/python3.6/site-packages/pandas/core/series.py:1155: FutureWarning: \n",
      "Passing list-likes to .loc or [] with any missing label will raise\n",
      "KeyError in the future, you can use .reindex() as an alternative.\n",
      "\n",
      "See the documentation here:\n",
      "https://pandas.pydata.org/pandas-docs/stable/user_guide/indexing.html#deprecate-loc-reindex-listlike\n",
      "  return self.loc[key]\n"
     ]
    },
    {
     "data": {
      "text/plain": [
       "Pokemon\n",
       "Bulbasaur    Grass\n",
       "Ivysaur      Grass\n",
       "digimon        NaN\n",
       "Name: Type, dtype: object"
      ]
     },
     "execution_count": 20,
     "metadata": {},
     "output_type": "execute_result"
    }
   ],
   "source": [
    "#Extract Series by Index Label\n",
    "#return series with the pokemon column as index\n",
    "pokemon = pd.read_csv(\"/home/aman/Pandas_Tutorial/datasets/pokemon.csv\",index_col=\"Pokemon\",squeeze=True)\n",
    "pokemon.head()\n",
    "pokemon['Bulbasaur']\n",
    "pokemon[['Bulbasaur','Ivysaur']]\n",
    "#bug will be there because there is nothing like a digimon\n",
    "# pokemon['digmon']\n",
    "#return the digimon as nan which says there is nothing like digimon \n",
    "#but return the values of other given index\n",
    "pokemon[['Bulbasaur','Ivysaur','digimon']]"
   ]
  },
  {
   "cell_type": "code",
   "execution_count": 22,
   "metadata": {},
   "outputs": [
    {
     "data": {
      "text/plain": [
       "'Aman'"
      ]
     },
     "execution_count": 22,
     "metadata": {},
     "output_type": "execute_result"
    }
   ],
   "source": [
    "#Another way to extract the series using get method\n",
    "#return first  5 rows\n",
    "pokemon.head()\n",
    "#return pokemon type with name as Bulbasaur\n",
    "pokemon.get('Bulbasaur')\n",
    "pokemon.get(['Bulbasaur','Ivysaur'])\n",
    "\"\"\"return none because digimon is not a valid pokemon\n",
    "this we can say the benifit of using get method basically what is going to \n",
    "happen that inside get method we have 2 parameters name as key and Default\n",
    "if the name or key is not availble default value if going to be\n",
    "returned because the defualt parameter consist of None argument\n",
    " \"\"\"\n",
    "pokemon.get('digimon')\n",
    "#return the defualt value \n",
    "pokemon.get(key = 'digimon',default=\"This is not a Pokemon\")"
   ]
  },
  {
   "cell_type": "code",
   "execution_count": 37,
   "metadata": {},
   "outputs": [
    {
     "data": {
      "text/plain": [
       "count    3012.000000\n",
       "mean      334.310093\n",
       "std       173.187205\n",
       "min        49.950000\n",
       "25%       218.045000\n",
       "50%       283.315000\n",
       "75%       443.000000\n",
       "max       782.220000\n",
       "Name: Stock Price, dtype: float64"
      ]
     },
     "execution_count": 37,
     "metadata": {},
     "output_type": "execute_result"
    }
   ],
   "source": [
    "#Math Methods \n",
    "#return the count of the numbers availble in google object it \n",
    "# dosent consist of nan values or null values where len consist of null values\n",
    "google.count()\n",
    "#retrun sum of the series\n",
    "google.sum()\n",
    "#return mean of the series\n",
    "google.mean()\n",
    "google.sum()/google.count()\n",
    "#return std \n",
    "google.std()\n",
    "#return min value\n",
    "google.min()\n",
    "#return max\n",
    "google.max()\n",
    "#return median\n",
    "google.median()\n",
    "#return mode\n",
    "google.mode()\n",
    "#return the summary of series\n",
    "google.describe()\n"
   ]
  },
  {
   "cell_type": "code",
   "execution_count": 45,
   "metadata": {},
   "outputs": [
    {
     "data": {
      "text/plain": [
       "49.95"
      ]
     },
     "execution_count": 45,
     "metadata": {},
     "output_type": "execute_result"
    }
   ],
   "source": [
    "#The idxmax() and idxmin()\n",
    "\"\"\"These methods return the index of mix and min value \n",
    "\"\"\"\n",
    "#return the max value \n",
    "google.max()\n",
    "#return the index of maximum value \n",
    "google.idxmax()\n",
    "#return the value which is at that index \n",
    "google[3011]\n",
    "google[google.idxmax()]\n",
    "google.idxmin()\n",
    "google[11]\n",
    "google.min()"
   ]
  },
  {
   "cell_type": "code",
   "execution_count": 48,
   "metadata": {},
   "outputs": [
    {
     "data": {
      "text/plain": [
       "0        50\n",
       "1        54\n",
       "2        54\n",
       "3        52\n",
       "4        52\n",
       "       ... \n",
       "3007    772\n",
       "3008    771\n",
       "3009    773\n",
       "3010    771\n",
       "3011    782\n",
       "Name: Stock Price, Length: 3012, dtype: int64"
      ]
     },
     "execution_count": 48,
     "metadata": {},
     "output_type": "execute_result"
    }
   ],
   "source": [
    "#Apply method\n",
    "#which call a function on every single value of the series\n",
    "def str_converter(number):\n",
    "    if number < 300:\n",
    "        return \"ok\"\n",
    "    else:\n",
    "        return \"Not Ok\"\n",
    "\n",
    "google.apply(str_converter)\n",
    "\n",
    "#converting float to int or can perform any functionilty such as additio\n",
    "google.apply(lambda n: int(n))"
   ]
  },
  {
   "cell_type": "code",
   "execution_count": null,
   "metadata": {},
   "outputs": [],
   "source": []
  },
  {
   "cell_type": "code",
   "execution_count": null,
   "metadata": {},
   "outputs": [],
   "source": []
  },
  {
   "cell_type": "code",
   "execution_count": null,
   "metadata": {},
   "outputs": [],
   "source": []
  },
  {
   "cell_type": "code",
   "execution_count": null,
   "metadata": {},
   "outputs": [],
   "source": []
  },
  {
   "cell_type": "markdown",
   "metadata": {},
   "source": []
  }
 ],
 "metadata": {
  "kernelspec": {
   "display_name": "Python 3",
   "language": "python",
   "name": "python3"
  },
  "language_info": {
   "codemirror_mode": {
    "name": "ipython",
    "version": 3
   },
   "file_extension": ".py",
   "mimetype": "text/x-python",
   "name": "python",
   "nbconvert_exporter": "python",
   "pygments_lexer": "ipython3",
   "version": "3.6.9"
  }
 },
 "nbformat": 4,
 "nbformat_minor": 2
}
