{
 "cells": [
  {
   "cell_type": "markdown",
   "metadata": {},
   "source": [
    "# Pandas Date Time\n",
    "Many times we got a data which reflects time or specific day something that something occured.We may want to perform some analysis or operation or any calucaltion like get the distance between 2 days or the duration, finding out what day of the week something occured or classifying data by something like quator which occured.In this tutorial we are going to discuss Python's Datetime modules.Firstly we will discuss about all about the datetime module in python then we will discuss how pandas is going to handle this dates and time.\n",
    "Author: Amanpreet Singh(aman64039@gmail.com)"
   ]
  },
  {
   "cell_type": "code",
   "execution_count": 1,
   "metadata": {},
   "outputs": [],
   "source": [
    "import pandas as pd\n",
    "import datetime as dt #datetime module of python "
   ]
  },
  {
   "cell_type": "markdown",
   "metadata": {},
   "source": [
    "# Review of Python's datetime Module"
   ]
  },
  {
   "cell_type": "code",
   "execution_count": 2,
   "metadata": {},
   "outputs": [
    {
     "data": {
      "text/plain": [
       "2019"
      ]
     },
     "execution_count": 2,
     "metadata": {},
     "output_type": "execute_result"
    }
   ],
   "source": [
    "bday = dt.date(2019,8,29)\n",
    "bday.day\n",
    "bday.month\n",
    "bday.year\n"
   ]
  },
  {
   "cell_type": "code",
   "execution_count": 3,
   "metadata": {},
   "outputs": [
    {
     "data": {
      "text/plain": [
       "datetime.datetime(2019, 8, 29, 22, 5, 2)"
      ]
     },
     "execution_count": 3,
     "metadata": {},
     "output_type": "execute_result"
    }
   ],
   "source": [
    "dt.datetime(2019,8,29, 22,5,2)#year , month,day,hour,min , seconds\n",
    "#if we are not passing any tie  it willl pick 0 as midnight"
   ]
  },
  {
   "cell_type": "code",
   "execution_count": 4,
   "metadata": {},
   "outputs": [
    {
     "data": {
      "text/plain": [
       "'2019-08-29 22:05:02'"
      ]
     },
     "execution_count": 4,
     "metadata": {},
     "output_type": "execute_result"
    }
   ],
   "source": [
    "str(dt.datetime(2019,8,29, 22,5,2)) #gettinng in str"
   ]
  },
  {
   "cell_type": "code",
   "execution_count": 5,
   "metadata": {},
   "outputs": [
    {
     "data": {
      "text/plain": [
       "'\\nIts really efective when we are working with dates and you may want to extract\\nsomething like a revenue of 2nd month.In order to aggreagate we will be \\nable to extrcat the month from every date even though teh dates may be diffrent one \\n'"
      ]
     },
     "execution_count": 5,
     "metadata": {},
     "output_type": "execute_result"
    }
   ],
   "source": [
    "a =dt.datetime(2019,8,29, 22,5,2)\n",
    "b = str(a)\n",
    "b\n",
    "a.hour\n",
    "a.minute\n",
    "a.second\n",
    "\"\"\"\n",
    "Its really efective when we are working with dates and you may want to extract\n",
    "something like a revenue of 2nd month.In order to aggreagate we will be \n",
    "able to extrcat the month from every date even though teh dates may be diffrent one \n",
    "\"\"\""
   ]
  },
  {
   "cell_type": "markdown",
   "metadata": {},
   "source": [
    "# The pandas TimeStamp object\n",
    "Timestamp object is basically pandas version of Python's datetime.It represents a single time stamp or a single moment in time and it can have dates and times it doesn't need the time component however and much like Python's daytime object. If the user does not provide a specific time it's just going to default to midnight on that day.\n"
   ]
  },
  {
   "cell_type": "code",
   "execution_count": 6,
   "metadata": {},
   "outputs": [
    {
     "data": {
      "text/plain": [
       "Timestamp('2020-08-29 22:05:00')"
      ]
     },
     "execution_count": 6,
     "metadata": {},
     "output_type": "execute_result"
    }
   ],
   "source": [
    "pd.Timestamp(\"2020-08-29\")\n",
    "pd.Timestamp(\"2020/08/29\")\n",
    "pd.Timestamp(\"2020/08/29\")#y/m/d\n",
    "pd.Timestamp(\"2020,29,08\")#with coma y,date,month\n",
    "pd.Timestamp(\"29/08/2020\")\n",
    "pd.Timestamp(\"4/03/2020\")#it will take as first as month\n",
    "pd.Timestamp(\"29/08/2020 22:05:00\")\n",
    "pd.Timestamp(\"29/08/2020 10:05:00 pm\")\n"
   ]
  },
  {
   "cell_type": "code",
   "execution_count": 7,
   "metadata": {},
   "outputs": [
    {
     "data": {
      "text/plain": [
       "Timestamp('2019-08-29 00:00:00')"
      ]
     },
     "execution_count": 7,
     "metadata": {},
     "output_type": "execute_result"
    }
   ],
   "source": [
    "pd.Timestamp(dt.date(2019,8,29))"
   ]
  },
  {
   "cell_type": "markdown",
   "metadata": {},
   "source": [
    "# The pandas DateTimeINdex Object\n",
    "It is just a collection of pandas timestamp."
   ]
  },
  {
   "cell_type": "code",
   "execution_count": 8,
   "metadata": {},
   "outputs": [
    {
     "data": {
      "text/plain": [
       "pandas.core.indexes.datetimes.DatetimeIndex"
      ]
     },
     "execution_count": 8,
     "metadata": {},
     "output_type": "execute_result"
    }
   ],
   "source": [
    "dates = [\"2016-01-01\",\"2017-02-02\",\"2018-03-03\",\"2019-04-04\",\"2020-05-05\"]\n",
    "dates\n",
    "pd.DatetimeIndex(dates)#will return the datetime index object\n",
    "type(pd.DatetimeIndex(dates))"
   ]
  },
  {
   "cell_type": "code",
   "execution_count": 9,
   "metadata": {},
   "outputs": [
    {
     "data": {
      "text/plain": [
       "DatetimeIndex(['2016-01-01', '2017-02-02', '2018-03-03', '2019-04-04',\n",
       "               '2020-05-05'],\n",
       "              dtype='datetime64[ns]', freq=None)"
      ]
     },
     "execution_count": 9,
     "metadata": {},
     "output_type": "execute_result"
    }
   ],
   "source": [
    "#changing the format of dates\n",
    "dates = list(map(lambda x:x.replace('-','/'),dates))\n",
    "dates\n",
    "pd.DatetimeIndex(dates)"
   ]
  },
  {
   "cell_type": "code",
   "execution_count": 10,
   "metadata": {},
   "outputs": [],
   "source": [
    "dates = [dt.datetime(2016,5,4),dt.datetime(2017,5,4),dt.datetime(2018,5,4),]\n",
    "datetimeindex = pd.DatetimeIndex(dates)"
   ]
  },
  {
   "cell_type": "code",
   "execution_count": 11,
   "metadata": {},
   "outputs": [
    {
     "data": {
      "text/plain": [
       "2016-05-04    100\n",
       "2017-05-04    200\n",
       "2018-05-04    300\n",
       "dtype: int64"
      ]
     },
     "execution_count": 11,
     "metadata": {},
     "output_type": "execute_result"
    }
   ],
   "source": [
    "value = [100,200,300]\n",
    "s = pd.Series(value,index= datetimeindex)\n",
    "s"
   ]
  },
  {
   "cell_type": "markdown",
   "metadata": {},
   "source": [
    "# Pandas to_date() method\n",
    "This basically method call to convert a existig data object into a pandas time related object. i.e it can take an input of a string ,  or a list of string or python datetime object and convert into pandas timestamp"
   ]
  },
  {
   "cell_type": "code",
   "execution_count": 11,
   "metadata": {},
   "outputs": [
    {
     "data": {
      "text/plain": [
       "DatetimeIndex(['2020-08-29', '2020-08-29', '2020-01-01', '1990-07-04'], dtype='datetime64[ns]', freq=None)"
      ]
     },
     "execution_count": 11,
     "metadata": {},
     "output_type": "execute_result"
    }
   ],
   "source": [
    "#some examples\n",
    "pd.to_datetime(\"2001-04-05\")\n",
    "pd.to_datetime(dt.datetime(2016,4,5))\n",
    "pd.to_datetime(dt.datetime(2016,4,5,14,4,2))\n",
    "pd.to_datetime([\"2020-08-29\",\"2020/08/29\",\"2020\",\"July 4th,1990\"])"
   ]
  },
  {
   "cell_type": "markdown",
   "metadata": {},
   "source": [
    "# Create Range of Dates with the pd.date_range() \n",
    "A function  which allows us to genrate date ranges or date time index Automatically."
   ]
  },
  {
   "cell_type": "code",
   "execution_count": 18,
   "metadata": {},
   "outputs": [
    {
     "data": {
      "text/plain": [
       "DatetimeIndex(['2020-08-29', '2020-08-30', '2020-08-31', '2020-09-01',\n",
       "               '2020-09-02', '2020-09-03', '2020-09-04', '2020-09-05',\n",
       "               '2020-09-06', '2020-09-07', '2020-09-08'],\n",
       "              dtype='datetime64[ns]', freq='D')"
      ]
     },
     "execution_count": 18,
     "metadata": {},
     "output_type": "execute_result"
    }
   ],
   "source": [
    "pd.date_range(start= \"2020-08-29\",end = '2020-09-08')\n",
    "#it will return the date index start from the started date and end upto \n",
    "#ended date and it will move by daywise as it mention as freq= 'D' that is default"
   ]
  },
  {
   "cell_type": "code",
   "execution_count": 20,
   "metadata": {},
   "outputs": [],
   "source": [
    "times = pd.date_range(start= \"2020-08-29\",end = '2020-09-08',freq='D')"
   ]
  },
  {
   "cell_type": "code",
   "execution_count": 23,
   "metadata": {},
   "outputs": [
    {
     "data": {
      "text/plain": [
       "pandas._libs.tslibs.timestamps.Timestamp"
      ]
     },
     "execution_count": 23,
     "metadata": {},
     "output_type": "execute_result"
    }
   ],
   "source": [
    "times\n",
    "times[0]\n",
    "type(times[0])"
   ]
  },
  {
   "cell_type": "code",
   "execution_count": 24,
   "metadata": {},
   "outputs": [],
   "source": [
    "#freq parameter basically act as the interval between how its going to be seprate\n",
    "#the value that make up datetime index so D is basically a one day"
   ]
  },
  {
   "cell_type": "code",
   "execution_count": 30,
   "metadata": {},
   "outputs": [
    {
     "data": {
      "text/plain": [
       "DatetimeIndex(['2020-08-31', '2020-09-01', '2020-09-02', '2020-09-03',\n",
       "               '2020-09-04', '2020-09-07', '2020-09-08'],\n",
       "              dtype='datetime64[ns]', freq='B')"
      ]
     },
     "execution_count": 30,
     "metadata": {},
     "output_type": "execute_result"
    }
   ],
   "source": [
    "pd.date_range(start= \"2020-08-29\",end = '2020-09-08',freq='1D')#regular one day\n",
    "pd.date_range(start= \"2020-08-29\",end = '2020-09-08',freq='3D')#regular 3day\n",
    "pd.date_range(start= \"2020-08-29\",end = '2020-09-08',freq='B')\n",
    "#B as buisness day weekend not included"
   ]
  },
  {
   "cell_type": "code",
   "execution_count": 32,
   "metadata": {},
   "outputs": [
    {
     "data": {
      "text/plain": [
       "DatetimeIndex(['2020-08-30', '2020-09-06'], dtype='datetime64[ns]', freq='W-SUN')"
      ]
     },
     "execution_count": 32,
     "metadata": {},
     "output_type": "execute_result"
    }
   ],
   "source": [
    "#W stand for Week and W-SUN for Week Sunday so here 30th aug is sunday and 5th sept is again sunday\n",
    "pd.date_range(start= \"2020-08-29\",end = '2020-09-08',freq='W')"
   ]
  },
  {
   "cell_type": "code",
   "execution_count": 40,
   "metadata": {},
   "outputs": [
    {
     "data": {
      "text/plain": [
       "DatetimeIndex(['2020-08-29', '2020-09-05'], dtype='datetime64[ns]', freq='W-SAT')"
      ]
     },
     "execution_count": 40,
     "metadata": {},
     "output_type": "execute_result"
    }
   ],
   "source": [
    "#that is configurable\n",
    "pd.date_range(start= \"2020-08-29\",end = '2020-09-08',freq='W-MON')\n",
    "pd.date_range(start= \"2020-08-29\",end = '2020-09-08',freq='W-Tue')\n",
    "pd.date_range(start= \"2020-08-29\",end = '2020-09-08',freq='W-WED')\n",
    "pd.date_range(start= \"2020-08-29\",end = '2020-09-08',freq='W-THU')\n",
    "pd.date_range(start= \"2020-08-29\",end = '2020-09-08',freq='W-FRI')\n",
    "pd.date_range(start= \"2020-08-29\",end = '2020-09-08',freq='W-SAT')\n"
   ]
  },
  {
   "cell_type": "code",
   "execution_count": 41,
   "metadata": {},
   "outputs": [
    {
     "data": {
      "text/plain": [
       "DatetimeIndex(['2020-08-29 00:00:00', '2020-08-29 01:00:00',\n",
       "               '2020-08-29 02:00:00', '2020-08-29 03:00:00',\n",
       "               '2020-08-29 04:00:00', '2020-08-29 05:00:00',\n",
       "               '2020-08-29 06:00:00', '2020-08-29 07:00:00',\n",
       "               '2020-08-29 08:00:00', '2020-08-29 09:00:00',\n",
       "               ...\n",
       "               '2020-09-07 15:00:00', '2020-09-07 16:00:00',\n",
       "               '2020-09-07 17:00:00', '2020-09-07 18:00:00',\n",
       "               '2020-09-07 19:00:00', '2020-09-07 20:00:00',\n",
       "               '2020-09-07 21:00:00', '2020-09-07 22:00:00',\n",
       "               '2020-09-07 23:00:00', '2020-09-08 00:00:00'],\n",
       "              dtype='datetime64[ns]', length=241, freq='H')"
      ]
     },
     "execution_count": 41,
     "metadata": {},
     "output_type": "execute_result"
    }
   ],
   "source": [
    "pd.date_range(start= \"2020-08-29\",end = '2020-09-08',freq='H')\n",
    "#every single hour\n"
   ]
  },
  {
   "cell_type": "code",
   "execution_count": 43,
   "metadata": {},
   "outputs": [
    {
     "data": {
      "text/plain": [
       "DatetimeIndex(['2020-08-29', '2020-08-30', '2020-08-31', '2020-09-01',\n",
       "               '2020-09-02', '2020-09-03', '2020-09-04', '2020-09-05',\n",
       "               '2020-09-06', '2020-09-07', '2020-09-08'],\n",
       "              dtype='datetime64[ns]', freq='24H')"
      ]
     },
     "execution_count": 43,
     "metadata": {},
     "output_type": "execute_result"
    }
   ],
   "source": [
    "pd.date_range(start= \"2020-08-29\",end = '2020-09-08',freq='24H')\n",
    "#every 24 Hour"
   ]
  },
  {
   "cell_type": "code",
   "execution_count": 45,
   "metadata": {},
   "outputs": [
    {
     "data": {
      "text/plain": [
       "DatetimeIndex(['2020-08-31'], dtype='datetime64[ns]', freq='M')"
      ]
     },
     "execution_count": 45,
     "metadata": {},
     "output_type": "execute_result"
    }
   ],
   "source": [
    "pd.date_range(start= \"2020-08-29\",end = '2020-09-08',freq='M')\n",
    "#M for end month"
   ]
  },
  {
   "cell_type": "code",
   "execution_count": 47,
   "metadata": {},
   "outputs": [
    {
     "data": {
      "text/plain": [
       "DatetimeIndex(['2020-09-01'], dtype='datetime64[ns]', freq='MS')"
      ]
     },
     "execution_count": 47,
     "metadata": {},
     "output_type": "execute_result"
    }
   ],
   "source": [
    "pd.date_range(start= \"2020-08-29\",end = '2020-09-08',freq='MS')\n",
    "#Month Start"
   ]
  },
  {
   "cell_type": "code",
   "execution_count": 48,
   "metadata": {},
   "outputs": [
    {
     "data": {
      "text/plain": [
       "DatetimeIndex(['2020-12-31', '2021-12-31', '2022-12-31', '2023-12-31',\n",
       "               '2024-12-31', '2025-12-31', '2026-12-31', '2027-12-31',\n",
       "               '2028-12-31', '2029-12-31', '2030-12-31', '2031-12-31',\n",
       "               '2032-12-31', '2033-12-31', '2034-12-31', '2035-12-31',\n",
       "               '2036-12-31', '2037-12-31', '2038-12-31', '2039-12-31',\n",
       "               '2040-12-31', '2041-12-31', '2042-12-31', '2043-12-31',\n",
       "               '2044-12-31', '2045-12-31', '2046-12-31', '2047-12-31',\n",
       "               '2048-12-31', '2049-12-31'],\n",
       "              dtype='datetime64[ns]', freq='A-DEC')"
      ]
     },
     "execution_count": 48,
     "metadata": {},
     "output_type": "execute_result"
    }
   ],
   "source": [
    "pd.date_range(start= \"2020-08-29\",end = '2050-09-08',freq='A')\n",
    "#year end "
   ]
  },
  {
   "cell_type": "markdown",
   "metadata": {},
   "source": [
    "A lot to play around with dates and time in pandas.But the basic core concept of this remains the same.You specify the start date , end date and the critical frequency that represent how many regular days , business days  and how many hours or months will "
   ]
  },
  {
   "cell_type": "code",
   "execution_count": 55,
   "metadata": {},
   "outputs": [
    {
     "data": {
      "text/plain": [
       "DatetimeIndex(['2020-09-01', '2020-10-01', '2020-11-01'], dtype='datetime64[ns]', freq='MS')"
      ]
     },
     "execution_count": 55,
     "metadata": {},
     "output_type": "execute_result"
    }
   ],
   "source": [
    "#another example\n",
    "#periods is how many dates you want default freq is D\n",
    "pd.date_range(start = '2020-08-29',periods=5,freq='M')\n",
    "pd.date_range(start= \"2020-08-29\",periods=3,freq='MS')\n"
   ]
  },
  {
   "cell_type": "code",
   "execution_count": 57,
   "metadata": {},
   "outputs": [
    {
     "data": {
      "text/plain": [
       "DatetimeIndex(['2020-08-20', '2020-08-21', '2020-08-22', '2020-08-23',\n",
       "               '2020-08-24', '2020-08-25', '2020-08-26', '2020-08-27',\n",
       "               '2020-08-28', '2020-08-29', '2020-08-30', '2020-08-31',\n",
       "               '2020-09-01', '2020-09-02', '2020-09-03', '2020-09-04',\n",
       "               '2020-09-05', '2020-09-06', '2020-09-07', '2020-09-08'],\n",
       "              dtype='datetime64[ns]', freq='D')"
      ]
     },
     "execution_count": 57,
     "metadata": {},
     "output_type": "execute_result"
    }
   ],
   "source": [
    "pd.date_range(end = '2020-09-08',periods=20)\n",
    "#periods is how many dates you want default freq is D"
   ]
  },
  {
   "cell_type": "markdown",
   "metadata": {},
   "source": [
    "# .dt Accessor\n",
    "This is similar to .str accessor we had used when we was working with Datetime. In order to access an attribute of series or dataframe that consist of datetime we have to use a prefix name as .dt with that accessor or before we get any of our attributes"
   ]
  },
  {
   "cell_type": "code",
   "execution_count": 61,
   "metadata": {},
   "outputs": [
    {
     "data": {
      "text/plain": [
       "0    2020-08-29\n",
       "1    2020-08-30\n",
       "2    2020-08-31\n",
       "3    2020-09-01\n",
       "4    2020-09-02\n",
       "5    2020-09-03\n",
       "6    2020-09-04\n",
       "7    2020-09-05\n",
       "8    2020-09-06\n",
       "9    2020-09-07\n",
       "10   2020-09-08\n",
       "dtype: datetime64[ns]"
      ]
     },
     "execution_count": 61,
     "metadata": {},
     "output_type": "execute_result"
    }
   ],
   "source": [
    "dates = pd.date_range(start='2020-08-29',end='2020-09-08')\n",
    "s = pd.Series(dates)\n",
    "s"
   ]
  },
  {
   "cell_type": "code",
   "execution_count": 68,
   "metadata": {},
   "outputs": [
    {
     "data": {
      "text/plain": [
       "29"
      ]
     },
     "execution_count": 68,
     "metadata": {},
     "output_type": "execute_result"
    }
   ],
   "source": [
    "#Lets have a look \n",
    "#this date is aliase which we imnported dattime module \n",
    "d = dt.datetime(2020,8,29)\n",
    "d.day"
   ]
  },
  {
   "cell_type": "code",
   "execution_count": 69,
   "metadata": {},
   "outputs": [
    {
     "ename": "AttributeError",
     "evalue": "'Series' object has no attribute 'day'",
     "output_type": "error",
     "traceback": [
      "\u001b[0;31m---------------------------------------------------------------------------\u001b[0m",
      "\u001b[0;31mAttributeError\u001b[0m                            Traceback (most recent call last)",
      "\u001b[0;32m<ipython-input-69-7400597d4687>\u001b[0m in \u001b[0;36m<module>\u001b[0;34m\u001b[0m\n\u001b[1;32m      1\u001b[0m \u001b[0;31m#perform this same on series\u001b[0m\u001b[0;34m\u001b[0m\u001b[0;34m\u001b[0m\u001b[0;34m\u001b[0m\u001b[0m\n\u001b[0;32m----> 2\u001b[0;31m \u001b[0ms\u001b[0m\u001b[0;34m.\u001b[0m\u001b[0mday\u001b[0m\u001b[0;34m\u001b[0m\u001b[0;34m\u001b[0m\u001b[0m\n\u001b[0m",
      "\u001b[0;32m~/.local/lib/python3.6/site-packages/pandas/core/generic.py\u001b[0m in \u001b[0;36m__getattr__\u001b[0;34m(self, name)\u001b[0m\n\u001b[1;32m   5177\u001b[0m             \u001b[0;32mif\u001b[0m \u001b[0mself\u001b[0m\u001b[0;34m.\u001b[0m\u001b[0m_info_axis\u001b[0m\u001b[0;34m.\u001b[0m\u001b[0m_can_hold_identifiers_and_holds_name\u001b[0m\u001b[0;34m(\u001b[0m\u001b[0mname\u001b[0m\u001b[0;34m)\u001b[0m\u001b[0;34m:\u001b[0m\u001b[0;34m\u001b[0m\u001b[0;34m\u001b[0m\u001b[0m\n\u001b[1;32m   5178\u001b[0m                 \u001b[0;32mreturn\u001b[0m \u001b[0mself\u001b[0m\u001b[0;34m[\u001b[0m\u001b[0mname\u001b[0m\u001b[0;34m]\u001b[0m\u001b[0;34m\u001b[0m\u001b[0;34m\u001b[0m\u001b[0m\n\u001b[0;32m-> 5179\u001b[0;31m             \u001b[0;32mreturn\u001b[0m \u001b[0mobject\u001b[0m\u001b[0;34m.\u001b[0m\u001b[0m__getattribute__\u001b[0m\u001b[0;34m(\u001b[0m\u001b[0mself\u001b[0m\u001b[0;34m,\u001b[0m \u001b[0mname\u001b[0m\u001b[0;34m)\u001b[0m\u001b[0;34m\u001b[0m\u001b[0;34m\u001b[0m\u001b[0m\n\u001b[0m\u001b[1;32m   5180\u001b[0m \u001b[0;34m\u001b[0m\u001b[0m\n\u001b[1;32m   5181\u001b[0m     \u001b[0;32mdef\u001b[0m \u001b[0m__setattr__\u001b[0m\u001b[0;34m(\u001b[0m\u001b[0mself\u001b[0m\u001b[0;34m,\u001b[0m \u001b[0mname\u001b[0m\u001b[0;34m,\u001b[0m \u001b[0mvalue\u001b[0m\u001b[0;34m)\u001b[0m\u001b[0;34m:\u001b[0m\u001b[0;34m\u001b[0m\u001b[0;34m\u001b[0m\u001b[0m\n",
      "\u001b[0;31mAttributeError\u001b[0m: 'Series' object has no attribute 'day'"
     ]
    }
   ],
   "source": [
    "#perform this same on series\n",
    "s.day #this is not going to work for this we have to use dt prefix or accesor"
   ]
  },
  {
   "cell_type": "code",
   "execution_count": 70,
   "metadata": {},
   "outputs": [
    {
     "data": {
      "text/plain": [
       "0     29\n",
       "1     30\n",
       "2     31\n",
       "3      1\n",
       "4      2\n",
       "5      3\n",
       "6      4\n",
       "7      5\n",
       "8      6\n",
       "9      7\n",
       "10     8\n",
       "dtype: int64"
      ]
     },
     "execution_count": 70,
     "metadata": {},
     "output_type": "execute_result"
    }
   ],
   "source": [
    "s.dt.day"
   ]
  },
  {
   "cell_type": "code",
   "execution_count": 73,
   "metadata": {},
   "outputs": [
    {
     "data": {
      "text/plain": [
       "0     2020\n",
       "1     2020\n",
       "2     2020\n",
       "3     2020\n",
       "4     2020\n",
       "5     2020\n",
       "6     2020\n",
       "7     2020\n",
       "8     2020\n",
       "9     2020\n",
       "10    2020\n",
       "dtype: int64"
      ]
     },
     "execution_count": 73,
     "metadata": {},
     "output_type": "execute_result"
    }
   ],
   "source": [
    "s.dt.weekday_name\n",
    "s.dt.month\n",
    "s.dt.year"
   ]
  },
  {
   "cell_type": "code",
   "execution_count": 76,
   "metadata": {},
   "outputs": [
    {
     "data": {
      "text/plain": [
       "3   2020-09-01\n",
       "dtype: datetime64[ns]"
      ]
     },
     "execution_count": 76,
     "metadata": {},
     "output_type": "execute_result"
    }
   ],
   "source": [
    "a = s.dt.is_month_start\n",
    "s[a]"
   ]
  },
  {
   "cell_type": "code",
   "execution_count": 12,
   "metadata": {},
   "outputs": [
    {
     "name": "stdout",
     "output_type": "stream",
     "text": [
      "Collecting pandas-datareader\n",
      "  Downloading https://files.pythonhosted.org/packages/22/f1/a02eea03628865c3d4c29849cda8c8a73f43358048aee47d79dfbfa6c6c3/pandas_datareader-0.9.0-py3-none-any.whl (107kB)\n",
      "\u001b[K    100% |████████████████████████████████| 112kB 795kB/s ta 0:00:01\n",
      "\u001b[?25hCollecting lxml (from pandas-datareader)\n",
      "  Downloading https://files.pythonhosted.org/packages/79/37/d420b7fdc9a550bd29b8cfeacff3b38502d9600b09d7dfae9a69e623b891/lxml-4.5.2-cp36-cp36m-manylinux1_x86_64.whl (5.5MB)\n",
      "\u001b[K    100% |████████████████████████████████| 5.5MB 206kB/s ta 0:00:01\n",
      "\u001b[?25hCollecting requests>=2.19.0 (from pandas-datareader)\n",
      "  Using cached https://files.pythonhosted.org/packages/45/1e/0c169c6a5381e241ba7404532c16a21d86ab872c9bed8bdcd4c423954103/requests-2.24.0-py2.py3-none-any.whl\n",
      "Collecting pandas>=0.23 (from pandas-datareader)\n",
      "  Downloading https://files.pythonhosted.org/packages/a7/f7/2adca20a7fa71b6a32f823bbd83992adeceab1d8bf72992bb7a55c69c19a/pandas-1.1.0-cp36-cp36m-manylinux1_x86_64.whl (10.5MB)\n",
      "\u001b[K    100% |████████████████████████████████| 10.5MB 109kB/s ta 0:00:01\n",
      "\u001b[?25hCollecting chardet<4,>=3.0.2 (from requests>=2.19.0->pandas-datareader)\n",
      "  Using cached https://files.pythonhosted.org/packages/bc/a9/01ffebfb562e4274b6487b4bb1ddec7ca55ec7510b22e4c51f14098443b8/chardet-3.0.4-py2.py3-none-any.whl\n",
      "Collecting idna<3,>=2.5 (from requests>=2.19.0->pandas-datareader)\n",
      "  Using cached https://files.pythonhosted.org/packages/a2/38/928ddce2273eaa564f6f50de919327bf3a00f091b5baba8dfa9460f3a8a8/idna-2.10-py2.py3-none-any.whl\n",
      "Collecting certifi>=2017.4.17 (from requests>=2.19.0->pandas-datareader)\n",
      "  Using cached https://files.pythonhosted.org/packages/5e/c4/6c4fe722df5343c33226f0b4e0bb042e4dc13483228b4718baf286f86d87/certifi-2020.6.20-py2.py3-none-any.whl\n",
      "Collecting urllib3!=1.25.0,!=1.25.1,<1.26,>=1.21.1 (from requests>=2.19.0->pandas-datareader)\n",
      "  Downloading https://files.pythonhosted.org/packages/9f/f0/a391d1463ebb1b233795cabfc0ef38d3db4442339de68f847026199e69d7/urllib3-1.25.10-py2.py3-none-any.whl (127kB)\n",
      "\u001b[K    100% |████████████████████████████████| 133kB 1.5MB/s ta 0:00:01\n",
      "\u001b[?25hCollecting numpy>=1.15.4 (from pandas>=0.23->pandas-datareader)\n",
      "  Using cached https://files.pythonhosted.org/packages/22/e7/4b2bdddb99f5f631d8c1de259897c2b7d65dcfcc1e0a6fd17a7f62923500/numpy-1.19.1-cp36-cp36m-manylinux1_x86_64.whl\n",
      "Collecting pytz>=2017.2 (from pandas>=0.23->pandas-datareader)\n",
      "  Using cached https://files.pythonhosted.org/packages/4f/a4/879454d49688e2fad93e59d7d4efda580b783c745fd2ec2a3adf87b0808d/pytz-2020.1-py2.py3-none-any.whl\n",
      "Collecting python-dateutil>=2.7.3 (from pandas>=0.23->pandas-datareader)\n",
      "  Using cached https://files.pythonhosted.org/packages/d4/70/d60450c3dd48ef87586924207ae8907090de0b306af2bce5d134d78615cb/python_dateutil-2.8.1-py2.py3-none-any.whl\n",
      "Collecting six>=1.5 (from python-dateutil>=2.7.3->pandas>=0.23->pandas-datareader)\n",
      "  Using cached https://files.pythonhosted.org/packages/ee/ff/48bde5c0f013094d729fe4b0316ba2a24774b3ff1c52d924a8a4cb04078a/six-1.15.0-py2.py3-none-any.whl\n",
      "Installing collected packages: lxml, chardet, idna, certifi, urllib3, requests, numpy, pytz, six, python-dateutil, pandas, pandas-datareader\n",
      "Successfully installed certifi-2020.6.20 chardet-3.0.4 idna-2.10 lxml-4.5.2 numpy-1.19.1 pandas-1.1.0 pandas-datareader-0.9.0 python-dateutil-2.8.1 pytz-2020.1 requests-2.24.0 six-1.15.0 urllib3-1.25.10\n",
      "Note: you may need to restart the kernel to use updated packages.\n"
     ]
    }
   ],
   "source": [
    "#datareader is just to read the data from internet and get as a dataframe\n",
    "pip install pandas-datareader"
   ]
  },
  {
   "cell_type": "code",
   "execution_count": 3,
   "metadata": {},
   "outputs": [],
   "source": [
    "from pandas_datareader import data as web\n"
   ]
  },
  {
   "cell_type": "code",
   "execution_count": 3,
   "metadata": {},
   "outputs": [],
   "source": [
    "#to get the data from internet as a source\n",
    "company = \"MSFT\"\n",
    "start = \"2010-01-01\"\n",
    "end = \"2020-08-04\"\n",
    "stocks = web.DataReader(name = company , data_source = \"yahoo\" ,start = start,end = end)"
   ]
  },
  {
   "cell_type": "code",
   "execution_count": 4,
   "metadata": {},
   "outputs": [
    {
     "data": {
      "text/html": [
       "<div>\n",
       "<style scoped>\n",
       "    .dataframe tbody tr th:only-of-type {\n",
       "        vertical-align: middle;\n",
       "    }\n",
       "\n",
       "    .dataframe tbody tr th {\n",
       "        vertical-align: top;\n",
       "    }\n",
       "\n",
       "    .dataframe thead th {\n",
       "        text-align: right;\n",
       "    }\n",
       "</style>\n",
       "<table border=\"1\" class=\"dataframe\">\n",
       "  <thead>\n",
       "    <tr style=\"text-align: right;\">\n",
       "      <th></th>\n",
       "      <th>High</th>\n",
       "      <th>Low</th>\n",
       "      <th>Open</th>\n",
       "      <th>Close</th>\n",
       "      <th>Volume</th>\n",
       "      <th>Adj Close</th>\n",
       "    </tr>\n",
       "    <tr>\n",
       "      <th>Date</th>\n",
       "      <th></th>\n",
       "      <th></th>\n",
       "      <th></th>\n",
       "      <th></th>\n",
       "      <th></th>\n",
       "      <th></th>\n",
       "    </tr>\n",
       "  </thead>\n",
       "  <tbody>\n",
       "    <tr>\n",
       "      <th>2009-12-31</th>\n",
       "      <td>30.990000</td>\n",
       "      <td>30.480000</td>\n",
       "      <td>30.980000</td>\n",
       "      <td>30.480000</td>\n",
       "      <td>31929700.0</td>\n",
       "      <td>23.858992</td>\n",
       "    </tr>\n",
       "    <tr>\n",
       "      <th>2010-01-04</th>\n",
       "      <td>31.100000</td>\n",
       "      <td>30.590000</td>\n",
       "      <td>30.620001</td>\n",
       "      <td>30.950001</td>\n",
       "      <td>38409100.0</td>\n",
       "      <td>24.226894</td>\n",
       "    </tr>\n",
       "    <tr>\n",
       "      <th>2010-01-05</th>\n",
       "      <td>31.100000</td>\n",
       "      <td>30.639999</td>\n",
       "      <td>30.850000</td>\n",
       "      <td>30.959999</td>\n",
       "      <td>49749600.0</td>\n",
       "      <td>24.234720</td>\n",
       "    </tr>\n",
       "    <tr>\n",
       "      <th>2010-01-06</th>\n",
       "      <td>31.080000</td>\n",
       "      <td>30.520000</td>\n",
       "      <td>30.879999</td>\n",
       "      <td>30.770000</td>\n",
       "      <td>58182400.0</td>\n",
       "      <td>24.085989</td>\n",
       "    </tr>\n",
       "    <tr>\n",
       "      <th>2010-01-07</th>\n",
       "      <td>30.700001</td>\n",
       "      <td>30.190001</td>\n",
       "      <td>30.629999</td>\n",
       "      <td>30.450001</td>\n",
       "      <td>50559700.0</td>\n",
       "      <td>23.835503</td>\n",
       "    </tr>\n",
       "  </tbody>\n",
       "</table>\n",
       "</div>"
      ],
      "text/plain": [
       "                 High        Low       Open      Close      Volume  Adj Close\n",
       "Date                                                                         \n",
       "2009-12-31  30.990000  30.480000  30.980000  30.480000  31929700.0  23.858992\n",
       "2010-01-04  31.100000  30.590000  30.620001  30.950001  38409100.0  24.226894\n",
       "2010-01-05  31.100000  30.639999  30.850000  30.959999  49749600.0  24.234720\n",
       "2010-01-06  31.080000  30.520000  30.879999  30.770000  58182400.0  24.085989\n",
       "2010-01-07  30.700001  30.190001  30.629999  30.450001  50559700.0  23.835503"
      ]
     },
     "execution_count": 4,
     "metadata": {},
     "output_type": "execute_result"
    }
   ],
   "source": [
    "stocks.head()"
   ]
  },
  {
   "cell_type": "markdown",
   "metadata": {},
   "source": [
    "# Selecting and extracting the row from a dataframe with a datetime index"
   ]
  },
  {
   "cell_type": "code",
   "execution_count": 5,
   "metadata": {},
   "outputs": [
    {
     "data": {
      "text/html": [
       "<div>\n",
       "<style scoped>\n",
       "    .dataframe tbody tr th:only-of-type {\n",
       "        vertical-align: middle;\n",
       "    }\n",
       "\n",
       "    .dataframe tbody tr th {\n",
       "        vertical-align: top;\n",
       "    }\n",
       "\n",
       "    .dataframe thead th {\n",
       "        text-align: right;\n",
       "    }\n",
       "</style>\n",
       "<table border=\"1\" class=\"dataframe\">\n",
       "  <thead>\n",
       "    <tr style=\"text-align: right;\">\n",
       "      <th></th>\n",
       "      <th>High</th>\n",
       "      <th>Low</th>\n",
       "      <th>Open</th>\n",
       "      <th>Close</th>\n",
       "      <th>Volume</th>\n",
       "      <th>Adj Close</th>\n",
       "    </tr>\n",
       "    <tr>\n",
       "      <th>Date</th>\n",
       "      <th></th>\n",
       "      <th></th>\n",
       "      <th></th>\n",
       "      <th></th>\n",
       "      <th></th>\n",
       "      <th></th>\n",
       "    </tr>\n",
       "  </thead>\n",
       "  <tbody>\n",
       "    <tr>\n",
       "      <th>2019-08-29</th>\n",
       "      <td>138.440002</td>\n",
       "      <td>136.910004</td>\n",
       "      <td>137.250000</td>\n",
       "      <td>138.119995</td>\n",
       "      <td>20168700.0</td>\n",
       "      <td>136.895386</td>\n",
       "    </tr>\n",
       "    <tr>\n",
       "      <th>2019-08-30</th>\n",
       "      <td>139.179993</td>\n",
       "      <td>136.270004</td>\n",
       "      <td>139.149994</td>\n",
       "      <td>137.860001</td>\n",
       "      <td>23940100.0</td>\n",
       "      <td>136.637711</td>\n",
       "    </tr>\n",
       "    <tr>\n",
       "      <th>2019-09-03</th>\n",
       "      <td>137.199997</td>\n",
       "      <td>135.699997</td>\n",
       "      <td>136.610001</td>\n",
       "      <td>136.039993</td>\n",
       "      <td>18869300.0</td>\n",
       "      <td>134.833832</td>\n",
       "    </tr>\n",
       "    <tr>\n",
       "      <th>2019-09-04</th>\n",
       "      <td>137.690002</td>\n",
       "      <td>136.479996</td>\n",
       "      <td>137.300003</td>\n",
       "      <td>137.630005</td>\n",
       "      <td>17995900.0</td>\n",
       "      <td>136.409744</td>\n",
       "    </tr>\n",
       "    <tr>\n",
       "      <th>2019-09-05</th>\n",
       "      <td>140.380005</td>\n",
       "      <td>138.759995</td>\n",
       "      <td>139.110001</td>\n",
       "      <td>140.050003</td>\n",
       "      <td>26101800.0</td>\n",
       "      <td>138.808273</td>\n",
       "    </tr>\n",
       "    <tr>\n",
       "      <th>2019-09-06</th>\n",
       "      <td>140.179993</td>\n",
       "      <td>138.199997</td>\n",
       "      <td>140.029999</td>\n",
       "      <td>139.100006</td>\n",
       "      <td>20824500.0</td>\n",
       "      <td>137.866699</td>\n",
       "    </tr>\n",
       "  </tbody>\n",
       "</table>\n",
       "</div>"
      ],
      "text/plain": [
       "                  High         Low        Open       Close      Volume  \\\n",
       "Date                                                                     \n",
       "2019-08-29  138.440002  136.910004  137.250000  138.119995  20168700.0   \n",
       "2019-08-30  139.179993  136.270004  139.149994  137.860001  23940100.0   \n",
       "2019-09-03  137.199997  135.699997  136.610001  136.039993  18869300.0   \n",
       "2019-09-04  137.690002  136.479996  137.300003  137.630005  17995900.0   \n",
       "2019-09-05  140.380005  138.759995  139.110001  140.050003  26101800.0   \n",
       "2019-09-06  140.179993  138.199997  140.029999  139.100006  20824500.0   \n",
       "\n",
       "             Adj Close  \n",
       "Date                    \n",
       "2019-08-29  136.895386  \n",
       "2019-08-30  136.637711  \n",
       "2019-09-03  134.833832  \n",
       "2019-09-04  136.409744  \n",
       "2019-09-05  138.808273  \n",
       "2019-09-06  137.866699  "
      ]
     },
     "execution_count": 5,
     "metadata": {},
     "output_type": "execute_result"
    }
   ],
   "source": [
    "stocks.loc['2019-08-29']\n",
    "stocks.iloc[305]\n",
    "stocks.loc['2019-08-29':]#till last day\n",
    "stocks.loc['2019-08-29':'2019-09-08']#till given date"
   ]
  },
  {
   "cell_type": "code",
   "execution_count": 6,
   "metadata": {},
   "outputs": [],
   "source": [
    "birthdays = pd.date_range(start = '2010-08-29',end = '2020-08-03',freq=pd.DateOffset(years=1))"
   ]
  },
  {
   "cell_type": "raw",
   "metadata": {},
   "source": [
    "#i got only that information from my birthdays\n",
    "a = stocks.index.isin(birthdays)\n",
    "stocks[a]"
   ]
  },
  {
   "cell_type": "markdown",
   "metadata": {},
   "source": [
    "# TimeStamp Object Attribute"
   ]
  },
  {
   "cell_type": "code",
   "execution_count": 8,
   "metadata": {},
   "outputs": [
    {
     "data": {
      "text/html": [
       "<div>\n",
       "<style scoped>\n",
       "    .dataframe tbody tr th:only-of-type {\n",
       "        vertical-align: middle;\n",
       "    }\n",
       "\n",
       "    .dataframe tbody tr th {\n",
       "        vertical-align: top;\n",
       "    }\n",
       "\n",
       "    .dataframe thead th {\n",
       "        text-align: right;\n",
       "    }\n",
       "</style>\n",
       "<table border=\"1\" class=\"dataframe\">\n",
       "  <thead>\n",
       "    <tr style=\"text-align: right;\">\n",
       "      <th></th>\n",
       "      <th>High</th>\n",
       "      <th>Low</th>\n",
       "      <th>Open</th>\n",
       "      <th>Close</th>\n",
       "      <th>Volume</th>\n",
       "      <th>Adj Close</th>\n",
       "    </tr>\n",
       "    <tr>\n",
       "      <th>Date</th>\n",
       "      <th></th>\n",
       "      <th></th>\n",
       "      <th></th>\n",
       "      <th></th>\n",
       "      <th></th>\n",
       "      <th></th>\n",
       "    </tr>\n",
       "  </thead>\n",
       "  <tbody>\n",
       "    <tr>\n",
       "      <th>2009-12-31</th>\n",
       "      <td>30.990000</td>\n",
       "      <td>30.480000</td>\n",
       "      <td>30.980000</td>\n",
       "      <td>30.480000</td>\n",
       "      <td>31929700.0</td>\n",
       "      <td>23.858992</td>\n",
       "    </tr>\n",
       "    <tr>\n",
       "      <th>2010-01-04</th>\n",
       "      <td>31.100000</td>\n",
       "      <td>30.590000</td>\n",
       "      <td>30.620001</td>\n",
       "      <td>30.950001</td>\n",
       "      <td>38409100.0</td>\n",
       "      <td>24.226894</td>\n",
       "    </tr>\n",
       "    <tr>\n",
       "      <th>2010-01-05</th>\n",
       "      <td>31.100000</td>\n",
       "      <td>30.639999</td>\n",
       "      <td>30.850000</td>\n",
       "      <td>30.959999</td>\n",
       "      <td>49749600.0</td>\n",
       "      <td>24.234720</td>\n",
       "    </tr>\n",
       "    <tr>\n",
       "      <th>2010-01-06</th>\n",
       "      <td>31.080000</td>\n",
       "      <td>30.520000</td>\n",
       "      <td>30.879999</td>\n",
       "      <td>30.770000</td>\n",
       "      <td>58182400.0</td>\n",
       "      <td>24.085989</td>\n",
       "    </tr>\n",
       "    <tr>\n",
       "      <th>2010-01-07</th>\n",
       "      <td>30.700001</td>\n",
       "      <td>30.190001</td>\n",
       "      <td>30.629999</td>\n",
       "      <td>30.450001</td>\n",
       "      <td>50559700.0</td>\n",
       "      <td>23.835503</td>\n",
       "    </tr>\n",
       "  </tbody>\n",
       "</table>\n",
       "</div>"
      ],
      "text/plain": [
       "                 High        Low       Open      Close      Volume  Adj Close\n",
       "Date                                                                         \n",
       "2009-12-31  30.990000  30.480000  30.980000  30.480000  31929700.0  23.858992\n",
       "2010-01-04  31.100000  30.590000  30.620001  30.950001  38409100.0  24.226894\n",
       "2010-01-05  31.100000  30.639999  30.850000  30.959999  49749600.0  24.234720\n",
       "2010-01-06  31.080000  30.520000  30.879999  30.770000  58182400.0  24.085989\n",
       "2010-01-07  30.700001  30.190001  30.629999  30.450001  50559700.0  23.835503"
      ]
     },
     "execution_count": 8,
     "metadata": {},
     "output_type": "execute_result"
    }
   ],
   "source": [
    "stocks.head()"
   ]
  },
  {
   "cell_type": "code",
   "execution_count": 17,
   "metadata": {},
   "outputs": [],
   "source": [
    "stocks.index\n",
    "someday = stocks.index[500]\n"
   ]
  },
  {
   "cell_type": "code",
   "execution_count": 32,
   "metadata": {},
   "outputs": [
    {
     "data": {
      "text/plain": [
       "'Friday'"
      ]
     },
     "execution_count": 32,
     "metadata": {},
     "output_type": "execute_result"
    }
   ],
   "source": [
    "someday.date()\n",
    "someday.day\n",
    "someday.year\n",
    "someday.month\n",
    "someday.day_name()\n",
    "someday.weekday()\n",
    "someday.is_month_end\n",
    "someday.day_name()"
   ]
  },
  {
   "cell_type": "code",
   "execution_count": 33,
   "metadata": {},
   "outputs": [],
   "source": [
    "stocks.insert(0,\"Day of Week\",stocks.index.day_name())"
   ]
  },
  {
   "cell_type": "code",
   "execution_count": 34,
   "metadata": {},
   "outputs": [
    {
     "data": {
      "text/html": [
       "<div>\n",
       "<style scoped>\n",
       "    .dataframe tbody tr th:only-of-type {\n",
       "        vertical-align: middle;\n",
       "    }\n",
       "\n",
       "    .dataframe tbody tr th {\n",
       "        vertical-align: top;\n",
       "    }\n",
       "\n",
       "    .dataframe thead th {\n",
       "        text-align: right;\n",
       "    }\n",
       "</style>\n",
       "<table border=\"1\" class=\"dataframe\">\n",
       "  <thead>\n",
       "    <tr style=\"text-align: right;\">\n",
       "      <th></th>\n",
       "      <th>Day of Week</th>\n",
       "      <th>High</th>\n",
       "      <th>Low</th>\n",
       "      <th>Open</th>\n",
       "      <th>Close</th>\n",
       "      <th>Volume</th>\n",
       "      <th>Adj Close</th>\n",
       "    </tr>\n",
       "    <tr>\n",
       "      <th>Date</th>\n",
       "      <th></th>\n",
       "      <th></th>\n",
       "      <th></th>\n",
       "      <th></th>\n",
       "      <th></th>\n",
       "      <th></th>\n",
       "      <th></th>\n",
       "    </tr>\n",
       "  </thead>\n",
       "  <tbody>\n",
       "    <tr>\n",
       "      <th>2009-12-31</th>\n",
       "      <td>Thursday</td>\n",
       "      <td>30.990000</td>\n",
       "      <td>30.480000</td>\n",
       "      <td>30.980000</td>\n",
       "      <td>30.480000</td>\n",
       "      <td>31929700.0</td>\n",
       "      <td>23.858992</td>\n",
       "    </tr>\n",
       "    <tr>\n",
       "      <th>2010-01-04</th>\n",
       "      <td>Monday</td>\n",
       "      <td>31.100000</td>\n",
       "      <td>30.590000</td>\n",
       "      <td>30.620001</td>\n",
       "      <td>30.950001</td>\n",
       "      <td>38409100.0</td>\n",
       "      <td>24.226894</td>\n",
       "    </tr>\n",
       "    <tr>\n",
       "      <th>2010-01-05</th>\n",
       "      <td>Tuesday</td>\n",
       "      <td>31.100000</td>\n",
       "      <td>30.639999</td>\n",
       "      <td>30.850000</td>\n",
       "      <td>30.959999</td>\n",
       "      <td>49749600.0</td>\n",
       "      <td>24.234720</td>\n",
       "    </tr>\n",
       "    <tr>\n",
       "      <th>2010-01-06</th>\n",
       "      <td>Wednesday</td>\n",
       "      <td>31.080000</td>\n",
       "      <td>30.520000</td>\n",
       "      <td>30.879999</td>\n",
       "      <td>30.770000</td>\n",
       "      <td>58182400.0</td>\n",
       "      <td>24.085989</td>\n",
       "    </tr>\n",
       "    <tr>\n",
       "      <th>2010-01-07</th>\n",
       "      <td>Thursday</td>\n",
       "      <td>30.700001</td>\n",
       "      <td>30.190001</td>\n",
       "      <td>30.629999</td>\n",
       "      <td>30.450001</td>\n",
       "      <td>50559700.0</td>\n",
       "      <td>23.835503</td>\n",
       "    </tr>\n",
       "    <tr>\n",
       "      <th>...</th>\n",
       "      <td>...</td>\n",
       "      <td>...</td>\n",
       "      <td>...</td>\n",
       "      <td>...</td>\n",
       "      <td>...</td>\n",
       "      <td>...</td>\n",
       "      <td>...</td>\n",
       "    </tr>\n",
       "    <tr>\n",
       "      <th>2020-07-29</th>\n",
       "      <td>Wednesday</td>\n",
       "      <td>204.649994</td>\n",
       "      <td>202.009995</td>\n",
       "      <td>202.500000</td>\n",
       "      <td>204.059998</td>\n",
       "      <td>19632600.0</td>\n",
       "      <td>204.059998</td>\n",
       "    </tr>\n",
       "    <tr>\n",
       "      <th>2020-07-30</th>\n",
       "      <td>Thursday</td>\n",
       "      <td>204.460007</td>\n",
       "      <td>199.570007</td>\n",
       "      <td>201.000000</td>\n",
       "      <td>203.899994</td>\n",
       "      <td>25079600.0</td>\n",
       "      <td>203.899994</td>\n",
       "    </tr>\n",
       "    <tr>\n",
       "      <th>2020-07-31</th>\n",
       "      <td>Friday</td>\n",
       "      <td>205.100006</td>\n",
       "      <td>199.009995</td>\n",
       "      <td>204.399994</td>\n",
       "      <td>205.009995</td>\n",
       "      <td>51248000.0</td>\n",
       "      <td>205.009995</td>\n",
       "    </tr>\n",
       "    <tr>\n",
       "      <th>2020-08-03</th>\n",
       "      <td>Monday</td>\n",
       "      <td>217.639999</td>\n",
       "      <td>210.440002</td>\n",
       "      <td>211.520004</td>\n",
       "      <td>216.539993</td>\n",
       "      <td>78877000.0</td>\n",
       "      <td>216.539993</td>\n",
       "    </tr>\n",
       "    <tr>\n",
       "      <th>2020-08-04</th>\n",
       "      <td>Tuesday</td>\n",
       "      <td>214.770004</td>\n",
       "      <td>210.309998</td>\n",
       "      <td>214.169998</td>\n",
       "      <td>212.139999</td>\n",
       "      <td>28486407.0</td>\n",
       "      <td>212.139999</td>\n",
       "    </tr>\n",
       "  </tbody>\n",
       "</table>\n",
       "<p>2666 rows × 7 columns</p>\n",
       "</div>"
      ],
      "text/plain": [
       "           Day of Week        High         Low        Open       Close  \\\n",
       "Date                                                                     \n",
       "2009-12-31    Thursday   30.990000   30.480000   30.980000   30.480000   \n",
       "2010-01-04      Monday   31.100000   30.590000   30.620001   30.950001   \n",
       "2010-01-05     Tuesday   31.100000   30.639999   30.850000   30.959999   \n",
       "2010-01-06   Wednesday   31.080000   30.520000   30.879999   30.770000   \n",
       "2010-01-07    Thursday   30.700001   30.190001   30.629999   30.450001   \n",
       "...                ...         ...         ...         ...         ...   \n",
       "2020-07-29   Wednesday  204.649994  202.009995  202.500000  204.059998   \n",
       "2020-07-30    Thursday  204.460007  199.570007  201.000000  203.899994   \n",
       "2020-07-31      Friday  205.100006  199.009995  204.399994  205.009995   \n",
       "2020-08-03      Monday  217.639999  210.440002  211.520004  216.539993   \n",
       "2020-08-04     Tuesday  214.770004  210.309998  214.169998  212.139999   \n",
       "\n",
       "                Volume   Adj Close  \n",
       "Date                                \n",
       "2009-12-31  31929700.0   23.858992  \n",
       "2010-01-04  38409100.0   24.226894  \n",
       "2010-01-05  49749600.0   24.234720  \n",
       "2010-01-06  58182400.0   24.085989  \n",
       "2010-01-07  50559700.0   23.835503  \n",
       "...                ...         ...  \n",
       "2020-07-29  19632600.0  204.059998  \n",
       "2020-07-30  25079600.0  203.899994  \n",
       "2020-07-31  51248000.0  205.009995  \n",
       "2020-08-03  78877000.0  216.539993  \n",
       "2020-08-04  28486407.0  212.139999  \n",
       "\n",
       "[2666 rows x 7 columns]"
      ]
     },
     "execution_count": 34,
     "metadata": {},
     "output_type": "execute_result"
    }
   ],
   "source": [
    "stocks"
   ]
  },
  {
   "cell_type": "code",
   "execution_count": 38,
   "metadata": {},
   "outputs": [
    {
     "ename": "ValueError",
     "evalue": "cannot insert Is Start of Month, already exists",
     "output_type": "error",
     "traceback": [
      "\u001b[0;31m---------------------------------------------------------------------------\u001b[0m",
      "\u001b[0;31mValueError\u001b[0m                                Traceback (most recent call last)",
      "\u001b[0;32m<ipython-input-38-8960890d3487>\u001b[0m in \u001b[0;36m<module>\u001b[0;34m\u001b[0m\n\u001b[0;32m----> 1\u001b[0;31m \u001b[0mstocks\u001b[0m\u001b[0;34m.\u001b[0m\u001b[0minsert\u001b[0m\u001b[0;34m(\u001b[0m\u001b[0;36m1\u001b[0m\u001b[0;34m,\u001b[0m\u001b[0;34m'Is Start of Month'\u001b[0m\u001b[0;34m,\u001b[0m\u001b[0mstocks\u001b[0m\u001b[0;34m.\u001b[0m\u001b[0mindex\u001b[0m\u001b[0;34m.\u001b[0m\u001b[0mis_month_start\u001b[0m\u001b[0;34m)\u001b[0m\u001b[0;34m\u001b[0m\u001b[0;34m\u001b[0m\u001b[0m\n\u001b[0m",
      "\u001b[0;32m~/.local/lib/python3.6/site-packages/pandas/core/frame.py\u001b[0m in \u001b[0;36minsert\u001b[0;34m(self, loc, column, value, allow_duplicates)\u001b[0m\n\u001b[1;32m   3616\u001b[0m         \u001b[0mself\u001b[0m\u001b[0;34m.\u001b[0m\u001b[0m_ensure_valid_index\u001b[0m\u001b[0;34m(\u001b[0m\u001b[0mvalue\u001b[0m\u001b[0;34m)\u001b[0m\u001b[0;34m\u001b[0m\u001b[0;34m\u001b[0m\u001b[0m\n\u001b[1;32m   3617\u001b[0m         \u001b[0mvalue\u001b[0m \u001b[0;34m=\u001b[0m \u001b[0mself\u001b[0m\u001b[0;34m.\u001b[0m\u001b[0m_sanitize_column\u001b[0m\u001b[0;34m(\u001b[0m\u001b[0mcolumn\u001b[0m\u001b[0;34m,\u001b[0m \u001b[0mvalue\u001b[0m\u001b[0;34m,\u001b[0m \u001b[0mbroadcast\u001b[0m\u001b[0;34m=\u001b[0m\u001b[0;32mFalse\u001b[0m\u001b[0;34m)\u001b[0m\u001b[0;34m\u001b[0m\u001b[0;34m\u001b[0m\u001b[0m\n\u001b[0;32m-> 3618\u001b[0;31m         \u001b[0mself\u001b[0m\u001b[0;34m.\u001b[0m\u001b[0m_mgr\u001b[0m\u001b[0;34m.\u001b[0m\u001b[0minsert\u001b[0m\u001b[0;34m(\u001b[0m\u001b[0mloc\u001b[0m\u001b[0;34m,\u001b[0m \u001b[0mcolumn\u001b[0m\u001b[0;34m,\u001b[0m \u001b[0mvalue\u001b[0m\u001b[0;34m,\u001b[0m \u001b[0mallow_duplicates\u001b[0m\u001b[0;34m=\u001b[0m\u001b[0mallow_duplicates\u001b[0m\u001b[0;34m)\u001b[0m\u001b[0;34m\u001b[0m\u001b[0;34m\u001b[0m\u001b[0m\n\u001b[0m\u001b[1;32m   3619\u001b[0m \u001b[0;34m\u001b[0m\u001b[0m\n\u001b[1;32m   3620\u001b[0m     \u001b[0;32mdef\u001b[0m \u001b[0massign\u001b[0m\u001b[0;34m(\u001b[0m\u001b[0mself\u001b[0m\u001b[0;34m,\u001b[0m \u001b[0;34m**\u001b[0m\u001b[0mkwargs\u001b[0m\u001b[0;34m)\u001b[0m \u001b[0;34m->\u001b[0m \u001b[0;34m\"DataFrame\"\u001b[0m\u001b[0;34m:\u001b[0m\u001b[0;34m\u001b[0m\u001b[0;34m\u001b[0m\u001b[0m\n",
      "\u001b[0;32m~/.local/lib/python3.6/site-packages/pandas/core/internals/managers.py\u001b[0m in \u001b[0;36minsert\u001b[0;34m(self, loc, item, value, allow_duplicates)\u001b[0m\n\u001b[1;32m   1145\u001b[0m         \u001b[0;32mif\u001b[0m \u001b[0;32mnot\u001b[0m \u001b[0mallow_duplicates\u001b[0m \u001b[0;32mand\u001b[0m \u001b[0mitem\u001b[0m \u001b[0;32min\u001b[0m \u001b[0mself\u001b[0m\u001b[0;34m.\u001b[0m\u001b[0mitems\u001b[0m\u001b[0;34m:\u001b[0m\u001b[0;34m\u001b[0m\u001b[0;34m\u001b[0m\u001b[0m\n\u001b[1;32m   1146\u001b[0m             \u001b[0;31m# Should this be a different kind of error??\u001b[0m\u001b[0;34m\u001b[0m\u001b[0;34m\u001b[0m\u001b[0;34m\u001b[0m\u001b[0m\n\u001b[0;32m-> 1147\u001b[0;31m             \u001b[0;32mraise\u001b[0m \u001b[0mValueError\u001b[0m\u001b[0;34m(\u001b[0m\u001b[0;34mf\"cannot insert {item}, already exists\"\u001b[0m\u001b[0;34m)\u001b[0m\u001b[0;34m\u001b[0m\u001b[0;34m\u001b[0m\u001b[0m\n\u001b[0m\u001b[1;32m   1148\u001b[0m \u001b[0;34m\u001b[0m\u001b[0m\n\u001b[1;32m   1149\u001b[0m         \u001b[0;32mif\u001b[0m \u001b[0;32mnot\u001b[0m \u001b[0misinstance\u001b[0m\u001b[0;34m(\u001b[0m\u001b[0mloc\u001b[0m\u001b[0;34m,\u001b[0m \u001b[0mint\u001b[0m\u001b[0;34m)\u001b[0m\u001b[0;34m:\u001b[0m\u001b[0;34m\u001b[0m\u001b[0;34m\u001b[0m\u001b[0m\n",
      "\u001b[0;31mValueError\u001b[0m: cannot insert Is Start of Month, already exists"
     ]
    }
   ],
   "source": [
    "stocks.insert(1,'Is Start of Month',stocks.index.is_month_start)"
   ]
  },
  {
   "cell_type": "code",
   "execution_count": 39,
   "metadata": {},
   "outputs": [
    {
     "data": {
      "text/html": [
       "<div>\n",
       "<style scoped>\n",
       "    .dataframe tbody tr th:only-of-type {\n",
       "        vertical-align: middle;\n",
       "    }\n",
       "\n",
       "    .dataframe tbody tr th {\n",
       "        vertical-align: top;\n",
       "    }\n",
       "\n",
       "    .dataframe thead th {\n",
       "        text-align: right;\n",
       "    }\n",
       "</style>\n",
       "<table border=\"1\" class=\"dataframe\">\n",
       "  <thead>\n",
       "    <tr style=\"text-align: right;\">\n",
       "      <th></th>\n",
       "      <th>Day of Week</th>\n",
       "      <th>Is Start of Month</th>\n",
       "      <th>High</th>\n",
       "      <th>Low</th>\n",
       "      <th>Open</th>\n",
       "      <th>Close</th>\n",
       "      <th>Volume</th>\n",
       "      <th>Adj Close</th>\n",
       "    </tr>\n",
       "    <tr>\n",
       "      <th>Date</th>\n",
       "      <th></th>\n",
       "      <th></th>\n",
       "      <th></th>\n",
       "      <th></th>\n",
       "      <th></th>\n",
       "      <th></th>\n",
       "      <th></th>\n",
       "      <th></th>\n",
       "    </tr>\n",
       "  </thead>\n",
       "  <tbody>\n",
       "    <tr>\n",
       "      <th>2009-12-31</th>\n",
       "      <td>Thursday</td>\n",
       "      <td>False</td>\n",
       "      <td>30.990000</td>\n",
       "      <td>30.480000</td>\n",
       "      <td>30.980000</td>\n",
       "      <td>30.480000</td>\n",
       "      <td>31929700.0</td>\n",
       "      <td>23.858992</td>\n",
       "    </tr>\n",
       "    <tr>\n",
       "      <th>2010-01-04</th>\n",
       "      <td>Monday</td>\n",
       "      <td>False</td>\n",
       "      <td>31.100000</td>\n",
       "      <td>30.590000</td>\n",
       "      <td>30.620001</td>\n",
       "      <td>30.950001</td>\n",
       "      <td>38409100.0</td>\n",
       "      <td>24.226894</td>\n",
       "    </tr>\n",
       "    <tr>\n",
       "      <th>2010-01-05</th>\n",
       "      <td>Tuesday</td>\n",
       "      <td>False</td>\n",
       "      <td>31.100000</td>\n",
       "      <td>30.639999</td>\n",
       "      <td>30.850000</td>\n",
       "      <td>30.959999</td>\n",
       "      <td>49749600.0</td>\n",
       "      <td>24.234720</td>\n",
       "    </tr>\n",
       "    <tr>\n",
       "      <th>2010-01-06</th>\n",
       "      <td>Wednesday</td>\n",
       "      <td>False</td>\n",
       "      <td>31.080000</td>\n",
       "      <td>30.520000</td>\n",
       "      <td>30.879999</td>\n",
       "      <td>30.770000</td>\n",
       "      <td>58182400.0</td>\n",
       "      <td>24.085989</td>\n",
       "    </tr>\n",
       "    <tr>\n",
       "      <th>2010-01-07</th>\n",
       "      <td>Thursday</td>\n",
       "      <td>False</td>\n",
       "      <td>30.700001</td>\n",
       "      <td>30.190001</td>\n",
       "      <td>30.629999</td>\n",
       "      <td>30.450001</td>\n",
       "      <td>50559700.0</td>\n",
       "      <td>23.835503</td>\n",
       "    </tr>\n",
       "    <tr>\n",
       "      <th>...</th>\n",
       "      <td>...</td>\n",
       "      <td>...</td>\n",
       "      <td>...</td>\n",
       "      <td>...</td>\n",
       "      <td>...</td>\n",
       "      <td>...</td>\n",
       "      <td>...</td>\n",
       "      <td>...</td>\n",
       "    </tr>\n",
       "    <tr>\n",
       "      <th>2020-07-29</th>\n",
       "      <td>Wednesday</td>\n",
       "      <td>False</td>\n",
       "      <td>204.649994</td>\n",
       "      <td>202.009995</td>\n",
       "      <td>202.500000</td>\n",
       "      <td>204.059998</td>\n",
       "      <td>19632600.0</td>\n",
       "      <td>204.059998</td>\n",
       "    </tr>\n",
       "    <tr>\n",
       "      <th>2020-07-30</th>\n",
       "      <td>Thursday</td>\n",
       "      <td>False</td>\n",
       "      <td>204.460007</td>\n",
       "      <td>199.570007</td>\n",
       "      <td>201.000000</td>\n",
       "      <td>203.899994</td>\n",
       "      <td>25079600.0</td>\n",
       "      <td>203.899994</td>\n",
       "    </tr>\n",
       "    <tr>\n",
       "      <th>2020-07-31</th>\n",
       "      <td>Friday</td>\n",
       "      <td>False</td>\n",
       "      <td>205.100006</td>\n",
       "      <td>199.009995</td>\n",
       "      <td>204.399994</td>\n",
       "      <td>205.009995</td>\n",
       "      <td>51248000.0</td>\n",
       "      <td>205.009995</td>\n",
       "    </tr>\n",
       "    <tr>\n",
       "      <th>2020-08-03</th>\n",
       "      <td>Monday</td>\n",
       "      <td>False</td>\n",
       "      <td>217.639999</td>\n",
       "      <td>210.440002</td>\n",
       "      <td>211.520004</td>\n",
       "      <td>216.539993</td>\n",
       "      <td>78877000.0</td>\n",
       "      <td>216.539993</td>\n",
       "    </tr>\n",
       "    <tr>\n",
       "      <th>2020-08-04</th>\n",
       "      <td>Tuesday</td>\n",
       "      <td>False</td>\n",
       "      <td>214.770004</td>\n",
       "      <td>210.309998</td>\n",
       "      <td>214.169998</td>\n",
       "      <td>212.139999</td>\n",
       "      <td>28486407.0</td>\n",
       "      <td>212.139999</td>\n",
       "    </tr>\n",
       "  </tbody>\n",
       "</table>\n",
       "<p>2666 rows × 8 columns</p>\n",
       "</div>"
      ],
      "text/plain": [
       "           Day of Week  Is Start of Month        High         Low        Open  \\\n",
       "Date                                                                            \n",
       "2009-12-31    Thursday              False   30.990000   30.480000   30.980000   \n",
       "2010-01-04      Monday              False   31.100000   30.590000   30.620001   \n",
       "2010-01-05     Tuesday              False   31.100000   30.639999   30.850000   \n",
       "2010-01-06   Wednesday              False   31.080000   30.520000   30.879999   \n",
       "2010-01-07    Thursday              False   30.700001   30.190001   30.629999   \n",
       "...                ...                ...         ...         ...         ...   \n",
       "2020-07-29   Wednesday              False  204.649994  202.009995  202.500000   \n",
       "2020-07-30    Thursday              False  204.460007  199.570007  201.000000   \n",
       "2020-07-31      Friday              False  205.100006  199.009995  204.399994   \n",
       "2020-08-03      Monday              False  217.639999  210.440002  211.520004   \n",
       "2020-08-04     Tuesday              False  214.770004  210.309998  214.169998   \n",
       "\n",
       "                 Close      Volume   Adj Close  \n",
       "Date                                            \n",
       "2009-12-31   30.480000  31929700.0   23.858992  \n",
       "2010-01-04   30.950001  38409100.0   24.226894  \n",
       "2010-01-05   30.959999  49749600.0   24.234720  \n",
       "2010-01-06   30.770000  58182400.0   24.085989  \n",
       "2010-01-07   30.450001  50559700.0   23.835503  \n",
       "...                ...         ...         ...  \n",
       "2020-07-29  204.059998  19632600.0  204.059998  \n",
       "2020-07-30  203.899994  25079600.0  203.899994  \n",
       "2020-07-31  205.009995  51248000.0  205.009995  \n",
       "2020-08-03  216.539993  78877000.0  216.539993  \n",
       "2020-08-04  212.139999  28486407.0  212.139999  \n",
       "\n",
       "[2666 rows x 8 columns]"
      ]
     },
     "execution_count": 39,
     "metadata": {},
     "output_type": "execute_result"
    }
   ],
   "source": [
    "stocks"
   ]
  },
  {
   "cell_type": "code",
   "execution_count": 37,
   "metadata": {},
   "outputs": [
    {
     "data": {
      "text/html": [
       "<div>\n",
       "<style scoped>\n",
       "    .dataframe tbody tr th:only-of-type {\n",
       "        vertical-align: middle;\n",
       "    }\n",
       "\n",
       "    .dataframe tbody tr th {\n",
       "        vertical-align: top;\n",
       "    }\n",
       "\n",
       "    .dataframe thead th {\n",
       "        text-align: right;\n",
       "    }\n",
       "</style>\n",
       "<table border=\"1\" class=\"dataframe\">\n",
       "  <thead>\n",
       "    <tr style=\"text-align: right;\">\n",
       "      <th></th>\n",
       "      <th>Day of Week</th>\n",
       "      <th>Is Start of Month</th>\n",
       "      <th>High</th>\n",
       "      <th>Low</th>\n",
       "      <th>Open</th>\n",
       "      <th>Close</th>\n",
       "      <th>Volume</th>\n",
       "      <th>Adj Close</th>\n",
       "    </tr>\n",
       "    <tr>\n",
       "      <th>Date</th>\n",
       "      <th></th>\n",
       "      <th></th>\n",
       "      <th></th>\n",
       "      <th></th>\n",
       "      <th></th>\n",
       "      <th></th>\n",
       "      <th></th>\n",
       "      <th></th>\n",
       "    </tr>\n",
       "  </thead>\n",
       "  <tbody>\n",
       "    <tr>\n",
       "      <th>2010-02-01</th>\n",
       "      <td>Monday</td>\n",
       "      <td>True</td>\n",
       "      <td>28.480000</td>\n",
       "      <td>27.920000</td>\n",
       "      <td>28.389999</td>\n",
       "      <td>28.410000</td>\n",
       "      <td>85931100.0</td>\n",
       "      <td>22.238642</td>\n",
       "    </tr>\n",
       "    <tr>\n",
       "      <th>2010-03-01</th>\n",
       "      <td>Monday</td>\n",
       "      <td>True</td>\n",
       "      <td>29.049999</td>\n",
       "      <td>28.530001</td>\n",
       "      <td>28.770000</td>\n",
       "      <td>29.020000</td>\n",
       "      <td>43805400.0</td>\n",
       "      <td>22.822367</td>\n",
       "    </tr>\n",
       "    <tr>\n",
       "      <th>2010-04-01</th>\n",
       "      <td>Thursday</td>\n",
       "      <td>True</td>\n",
       "      <td>29.540001</td>\n",
       "      <td>28.620001</td>\n",
       "      <td>29.350000</td>\n",
       "      <td>29.160000</td>\n",
       "      <td>74768100.0</td>\n",
       "      <td>22.932465</td>\n",
       "    </tr>\n",
       "    <tr>\n",
       "      <th>2010-06-01</th>\n",
       "      <td>Tuesday</td>\n",
       "      <td>True</td>\n",
       "      <td>26.309999</td>\n",
       "      <td>25.520000</td>\n",
       "      <td>25.530001</td>\n",
       "      <td>25.889999</td>\n",
       "      <td>76152400.0</td>\n",
       "      <td>20.452698</td>\n",
       "    </tr>\n",
       "    <tr>\n",
       "      <th>2010-07-01</th>\n",
       "      <td>Thursday</td>\n",
       "      <td>True</td>\n",
       "      <td>23.320000</td>\n",
       "      <td>22.730000</td>\n",
       "      <td>23.090000</td>\n",
       "      <td>23.160000</td>\n",
       "      <td>92239400.0</td>\n",
       "      <td>18.296041</td>\n",
       "    </tr>\n",
       "    <tr>\n",
       "      <th>...</th>\n",
       "      <td>...</td>\n",
       "      <td>...</td>\n",
       "      <td>...</td>\n",
       "      <td>...</td>\n",
       "      <td>...</td>\n",
       "      <td>...</td>\n",
       "      <td>...</td>\n",
       "      <td>...</td>\n",
       "    </tr>\n",
       "    <tr>\n",
       "      <th>2019-11-01</th>\n",
       "      <td>Friday</td>\n",
       "      <td>True</td>\n",
       "      <td>144.419998</td>\n",
       "      <td>142.970001</td>\n",
       "      <td>144.259995</td>\n",
       "      <td>143.720001</td>\n",
       "      <td>33128400.0</td>\n",
       "      <td>142.445740</td>\n",
       "    </tr>\n",
       "    <tr>\n",
       "      <th>2020-04-01</th>\n",
       "      <td>Wednesday</td>\n",
       "      <td>True</td>\n",
       "      <td>157.750000</td>\n",
       "      <td>150.820007</td>\n",
       "      <td>153.000000</td>\n",
       "      <td>152.110001</td>\n",
       "      <td>57969900.0</td>\n",
       "      <td>151.687546</td>\n",
       "    </tr>\n",
       "    <tr>\n",
       "      <th>2020-05-01</th>\n",
       "      <td>Friday</td>\n",
       "      <td>True</td>\n",
       "      <td>178.639999</td>\n",
       "      <td>174.009995</td>\n",
       "      <td>175.800003</td>\n",
       "      <td>174.570007</td>\n",
       "      <td>39370500.0</td>\n",
       "      <td>174.085175</td>\n",
       "    </tr>\n",
       "    <tr>\n",
       "      <th>2020-06-01</th>\n",
       "      <td>Monday</td>\n",
       "      <td>True</td>\n",
       "      <td>183.000000</td>\n",
       "      <td>181.460007</td>\n",
       "      <td>182.539993</td>\n",
       "      <td>182.830002</td>\n",
       "      <td>22622400.0</td>\n",
       "      <td>182.830002</td>\n",
       "    </tr>\n",
       "    <tr>\n",
       "      <th>2020-07-01</th>\n",
       "      <td>Wednesday</td>\n",
       "      <td>True</td>\n",
       "      <td>206.350006</td>\n",
       "      <td>201.770004</td>\n",
       "      <td>203.139999</td>\n",
       "      <td>204.699997</td>\n",
       "      <td>32061200.0</td>\n",
       "      <td>204.699997</td>\n",
       "    </tr>\n",
       "  </tbody>\n",
       "</table>\n",
       "<p>82 rows × 8 columns</p>\n",
       "</div>"
      ],
      "text/plain": [
       "           Day of Week  Is Start of Month        High         Low        Open  \\\n",
       "Date                                                                            \n",
       "2010-02-01      Monday               True   28.480000   27.920000   28.389999   \n",
       "2010-03-01      Monday               True   29.049999   28.530001   28.770000   \n",
       "2010-04-01    Thursday               True   29.540001   28.620001   29.350000   \n",
       "2010-06-01     Tuesday               True   26.309999   25.520000   25.530001   \n",
       "2010-07-01    Thursday               True   23.320000   22.730000   23.090000   \n",
       "...                ...                ...         ...         ...         ...   \n",
       "2019-11-01      Friday               True  144.419998  142.970001  144.259995   \n",
       "2020-04-01   Wednesday               True  157.750000  150.820007  153.000000   \n",
       "2020-05-01      Friday               True  178.639999  174.009995  175.800003   \n",
       "2020-06-01      Monday               True  183.000000  181.460007  182.539993   \n",
       "2020-07-01   Wednesday               True  206.350006  201.770004  203.139999   \n",
       "\n",
       "                 Close      Volume   Adj Close  \n",
       "Date                                            \n",
       "2010-02-01   28.410000  85931100.0   22.238642  \n",
       "2010-03-01   29.020000  43805400.0   22.822367  \n",
       "2010-04-01   29.160000  74768100.0   22.932465  \n",
       "2010-06-01   25.889999  76152400.0   20.452698  \n",
       "2010-07-01   23.160000  92239400.0   18.296041  \n",
       "...                ...         ...         ...  \n",
       "2019-11-01  143.720001  33128400.0  142.445740  \n",
       "2020-04-01  152.110001  57969900.0  151.687546  \n",
       "2020-05-01  174.570007  39370500.0  174.085175  \n",
       "2020-06-01  182.830002  22622400.0  182.830002  \n",
       "2020-07-01  204.699997  32061200.0  204.699997  \n",
       "\n",
       "[82 rows x 8 columns]"
      ]
     },
     "execution_count": 37,
     "metadata": {},
     "output_type": "execute_result"
    }
   ],
   "source": [
    "stocks[stocks['Is Start of Month']]"
   ]
  },
  {
   "cell_type": "markdown",
   "metadata": {},
   "source": [
    "# The Truncate method\n",
    "This can be called on Series as well as DataFrame. Its something as a slicing"
   ]
  },
  {
   "cell_type": "code",
   "execution_count": 41,
   "metadata": {},
   "outputs": [
    {
     "data": {
      "text/html": [
       "<div>\n",
       "<style scoped>\n",
       "    .dataframe tbody tr th:only-of-type {\n",
       "        vertical-align: middle;\n",
       "    }\n",
       "\n",
       "    .dataframe tbody tr th {\n",
       "        vertical-align: top;\n",
       "    }\n",
       "\n",
       "    .dataframe thead th {\n",
       "        text-align: right;\n",
       "    }\n",
       "</style>\n",
       "<table border=\"1\" class=\"dataframe\">\n",
       "  <thead>\n",
       "    <tr style=\"text-align: right;\">\n",
       "      <th></th>\n",
       "      <th>Day of Week</th>\n",
       "      <th>Is Start of Month</th>\n",
       "      <th>High</th>\n",
       "      <th>Low</th>\n",
       "      <th>Open</th>\n",
       "      <th>Close</th>\n",
       "      <th>Volume</th>\n",
       "      <th>Adj Close</th>\n",
       "    </tr>\n",
       "    <tr>\n",
       "      <th>Date</th>\n",
       "      <th></th>\n",
       "      <th></th>\n",
       "      <th></th>\n",
       "      <th></th>\n",
       "      <th></th>\n",
       "      <th></th>\n",
       "      <th></th>\n",
       "      <th></th>\n",
       "    </tr>\n",
       "  </thead>\n",
       "  <tbody>\n",
       "    <tr>\n",
       "      <th>2020-08-03</th>\n",
       "      <td>Monday</td>\n",
       "      <td>False</td>\n",
       "      <td>217.639999</td>\n",
       "      <td>210.440002</td>\n",
       "      <td>211.520004</td>\n",
       "      <td>216.539993</td>\n",
       "      <td>78877000.0</td>\n",
       "      <td>216.539993</td>\n",
       "    </tr>\n",
       "    <tr>\n",
       "      <th>2020-08-04</th>\n",
       "      <td>Tuesday</td>\n",
       "      <td>False</td>\n",
       "      <td>214.770004</td>\n",
       "      <td>210.309998</td>\n",
       "      <td>214.169998</td>\n",
       "      <td>212.139999</td>\n",
       "      <td>28486407.0</td>\n",
       "      <td>212.139999</td>\n",
       "    </tr>\n",
       "  </tbody>\n",
       "</table>\n",
       "</div>"
      ],
      "text/plain": [
       "           Day of Week  Is Start of Month        High         Low        Open  \\\n",
       "Date                                                                            \n",
       "2020-08-03      Monday              False  217.639999  210.440002  211.520004   \n",
       "2020-08-04     Tuesday              False  214.770004  210.309998  214.169998   \n",
       "\n",
       "                 Close      Volume   Adj Close  \n",
       "Date                                            \n",
       "2020-08-03  216.539993  78877000.0  216.539993  \n",
       "2020-08-04  212.139999  28486407.0  212.139999  "
      ]
     },
     "execution_count": 41,
     "metadata": {},
     "output_type": "execute_result"
    }
   ],
   "source": [
    "stocks.truncate(before = '2020-08-01',after='2020-08-04')"
   ]
  },
  {
   "cell_type": "markdown",
   "metadata": {},
   "source": [
    "# Dateofset Object"
   ]
  },
  {
   "cell_type": "code",
   "execution_count": 5,
   "metadata": {},
   "outputs": [
    {
     "data": {
      "text/html": [
       "<div>\n",
       "<style scoped>\n",
       "    .dataframe tbody tr th:only-of-type {\n",
       "        vertical-align: middle;\n",
       "    }\n",
       "\n",
       "    .dataframe tbody tr th {\n",
       "        vertical-align: top;\n",
       "    }\n",
       "\n",
       "    .dataframe thead th {\n",
       "        text-align: right;\n",
       "    }\n",
       "</style>\n",
       "<table border=\"1\" class=\"dataframe\">\n",
       "  <thead>\n",
       "    <tr style=\"text-align: right;\">\n",
       "      <th></th>\n",
       "      <th>High</th>\n",
       "      <th>Low</th>\n",
       "      <th>Open</th>\n",
       "      <th>Close</th>\n",
       "      <th>Volume</th>\n",
       "      <th>Adj Close</th>\n",
       "    </tr>\n",
       "    <tr>\n",
       "      <th>Date</th>\n",
       "      <th></th>\n",
       "      <th></th>\n",
       "      <th></th>\n",
       "      <th></th>\n",
       "      <th></th>\n",
       "      <th></th>\n",
       "    </tr>\n",
       "  </thead>\n",
       "  <tbody>\n",
       "    <tr>\n",
       "      <th>2015-08-06</th>\n",
       "      <td>645.379028</td>\n",
       "      <td>632.250000</td>\n",
       "      <td>645.000000</td>\n",
       "      <td>642.679993</td>\n",
       "      <td>1572600</td>\n",
       "      <td>642.679993</td>\n",
       "    </tr>\n",
       "    <tr>\n",
       "      <th>2015-08-07</th>\n",
       "      <td>642.679993</td>\n",
       "      <td>629.710022</td>\n",
       "      <td>640.229980</td>\n",
       "      <td>635.299988</td>\n",
       "      <td>1403900</td>\n",
       "      <td>635.299988</td>\n",
       "    </tr>\n",
       "    <tr>\n",
       "      <th>2015-08-10</th>\n",
       "      <td>643.440002</td>\n",
       "      <td>631.249023</td>\n",
       "      <td>639.479980</td>\n",
       "      <td>633.729980</td>\n",
       "      <td>1809200</td>\n",
       "      <td>633.729980</td>\n",
       "    </tr>\n",
       "    <tr>\n",
       "      <th>2015-08-11</th>\n",
       "      <td>674.900024</td>\n",
       "      <td>654.270020</td>\n",
       "      <td>669.200012</td>\n",
       "      <td>660.780029</td>\n",
       "      <td>5029200</td>\n",
       "      <td>660.780029</td>\n",
       "    </tr>\n",
       "    <tr>\n",
       "      <th>2015-08-12</th>\n",
       "      <td>665.000000</td>\n",
       "      <td>652.289978</td>\n",
       "      <td>663.080017</td>\n",
       "      <td>659.559998</td>\n",
       "      <td>2936700</td>\n",
       "      <td>659.559998</td>\n",
       "    </tr>\n",
       "    <tr>\n",
       "      <th>...</th>\n",
       "      <td>...</td>\n",
       "      <td>...</td>\n",
       "      <td>...</td>\n",
       "      <td>...</td>\n",
       "      <td>...</td>\n",
       "      <td>...</td>\n",
       "    </tr>\n",
       "    <tr>\n",
       "      <th>2020-07-29</th>\n",
       "      <td>1531.251953</td>\n",
       "      <td>1501.329956</td>\n",
       "      <td>1506.319946</td>\n",
       "      <td>1522.020020</td>\n",
       "      <td>1106500</td>\n",
       "      <td>1522.020020</td>\n",
       "    </tr>\n",
       "    <tr>\n",
       "      <th>2020-07-30</th>\n",
       "      <td>1537.869995</td>\n",
       "      <td>1492.219971</td>\n",
       "      <td>1497.000000</td>\n",
       "      <td>1531.449951</td>\n",
       "      <td>1671400</td>\n",
       "      <td>1531.449951</td>\n",
       "    </tr>\n",
       "    <tr>\n",
       "      <th>2020-07-31</th>\n",
       "      <td>1508.949951</td>\n",
       "      <td>1454.030029</td>\n",
       "      <td>1505.010010</td>\n",
       "      <td>1482.959961</td>\n",
       "      <td>3439900</td>\n",
       "      <td>1482.959961</td>\n",
       "    </tr>\n",
       "    <tr>\n",
       "      <th>2020-08-03</th>\n",
       "      <td>1490.469971</td>\n",
       "      <td>1465.640015</td>\n",
       "      <td>1486.640015</td>\n",
       "      <td>1474.449951</td>\n",
       "      <td>2330200</td>\n",
       "      <td>1474.449951</td>\n",
       "    </tr>\n",
       "    <tr>\n",
       "      <th>2020-08-04</th>\n",
       "      <td>1485.560059</td>\n",
       "      <td>1458.650024</td>\n",
       "      <td>1476.569946</td>\n",
       "      <td>1464.969971</td>\n",
       "      <td>1902200</td>\n",
       "      <td>1464.969971</td>\n",
       "    </tr>\n",
       "  </tbody>\n",
       "</table>\n",
       "<p>1258 rows × 6 columns</p>\n",
       "</div>"
      ],
      "text/plain": [
       "                   High          Low         Open        Close   Volume  \\\n",
       "Date                                                                      \n",
       "2015-08-06   645.379028   632.250000   645.000000   642.679993  1572600   \n",
       "2015-08-07   642.679993   629.710022   640.229980   635.299988  1403900   \n",
       "2015-08-10   643.440002   631.249023   639.479980   633.729980  1809200   \n",
       "2015-08-11   674.900024   654.270020   669.200012   660.780029  5029200   \n",
       "2015-08-12   665.000000   652.289978   663.080017   659.559998  2936700   \n",
       "...                 ...          ...          ...          ...      ...   \n",
       "2020-07-29  1531.251953  1501.329956  1506.319946  1522.020020  1106500   \n",
       "2020-07-30  1537.869995  1492.219971  1497.000000  1531.449951  1671400   \n",
       "2020-07-31  1508.949951  1454.030029  1505.010010  1482.959961  3439900   \n",
       "2020-08-03  1490.469971  1465.640015  1486.640015  1474.449951  2330200   \n",
       "2020-08-04  1485.560059  1458.650024  1476.569946  1464.969971  1902200   \n",
       "\n",
       "              Adj Close  \n",
       "Date                     \n",
       "2015-08-06   642.679993  \n",
       "2015-08-07   635.299988  \n",
       "2015-08-10   633.729980  \n",
       "2015-08-11   660.780029  \n",
       "2015-08-12   659.559998  \n",
       "...                 ...  \n",
       "2020-07-29  1522.020020  \n",
       "2020-07-30  1531.449951  \n",
       "2020-07-31  1482.959961  \n",
       "2020-08-03  1474.449951  \n",
       "2020-08-04  1464.969971  \n",
       "\n",
       "[1258 rows x 6 columns]"
      ]
     },
     "execution_count": 5,
     "metadata": {},
     "output_type": "execute_result"
    }
   ],
   "source": [
    "#reading the new data\n",
    "stocks = web.DataReader(name = \"GOOG\",data_source=\"yahoo\")\n",
    "stocks"
   ]
  },
  {
   "cell_type": "code",
   "execution_count": 6,
   "metadata": {},
   "outputs": [
    {
     "data": {
      "text/plain": [
       "DatetimeIndex(['2015-08-11', '2015-08-12', '2015-08-15', '2015-08-16',\n",
       "               '2015-08-17', '2015-08-18', '2015-08-19', '2015-08-22',\n",
       "               '2015-08-23', '2015-08-24',\n",
       "               ...\n",
       "               '2020-07-27', '2020-07-28', '2020-07-29', '2020-08-01',\n",
       "               '2020-08-02', '2020-08-03', '2020-08-04', '2020-08-05',\n",
       "               '2020-08-08', '2020-08-09'],\n",
       "              dtype='datetime64[ns]', name='Date', length=1258, freq=None)"
      ]
     },
     "execution_count": 6,
     "metadata": {},
     "output_type": "execute_result"
    }
   ],
   "source": [
    "stocks.index\n",
    "#i want to add 5 dates more\n",
    "stocks.index + pd.DateOffset(days=5)#now i got add 5 in data"
   ]
  },
  {
   "cell_type": "code",
   "execution_count": 7,
   "metadata": {},
   "outputs": [
    {
     "data": {
      "text/plain": [
       "DatetimeIndex(['2016-11-09 01:02:00', '2016-11-10 01:02:00',\n",
       "               '2016-11-13 01:02:00', '2016-11-14 01:02:00',\n",
       "               '2016-11-15 01:02:00', '2016-11-16 01:02:00',\n",
       "               '2016-11-17 01:02:00', '2016-11-20 01:02:00',\n",
       "               '2016-11-21 01:02:00', '2016-11-22 01:02:00',\n",
       "               ...\n",
       "               '2021-10-25 01:02:00', '2021-10-26 01:02:00',\n",
       "               '2021-10-27 01:02:00', '2021-10-30 01:02:00',\n",
       "               '2021-10-31 01:02:00', '2021-11-01 01:02:00',\n",
       "               '2021-11-02 01:02:00', '2021-11-03 01:02:00',\n",
       "               '2021-11-06 01:02:00', '2021-11-07 01:02:00'],\n",
       "              dtype='datetime64[ns]', name='Date', length=1258, freq=None)"
      ]
     },
     "execution_count": 7,
     "metadata": {},
     "output_type": "execute_result"
    }
   ],
   "source": [
    "stocks.index + pd.DateOffset(weeks=2)\n",
    "stocks.index + pd.DateOffset(years=1)\n",
    "stocks.index + pd.DateOffset(hours=2)\n",
    "stocks.index + pd.DateOffset(minutes=2)\n",
    "stocks.index + pd.DateOffset(years=1,months = 3,days = 3 , hours=1 , minutes=2)"
   ]
  },
  {
   "cell_type": "markdown",
   "metadata": {},
   "source": [
    "We had played with DateOffset a lot like how to add some hours , minutes , days , months and years.Now lets suppose i want to check for a quater or compare the last date of the month. so i am not able to add 10 to that date because it vary so for this type of functionilty i am describing a one more subpackage of pandas name as tseries.\n",
    "But this is not a fine way we have to just import instead of writting the pd.tseries.offsets.\n",
    "from pandas.tseries.offsets import *"
   ]
  },
  {
   "cell_type": "code",
   "execution_count": 13,
   "metadata": {},
   "outputs": [],
   "source": [
    "# pd.tseries.offsets.  #here we will get some avaible option\n",
    "from pandas.tseries.offsets import *"
   ]
  },
  {
   "cell_type": "code",
   "execution_count": 10,
   "metadata": {},
   "outputs": [
    {
     "data": {
      "text/plain": [
       "DatetimeIndex(['2015-08-06', '2015-08-07', '2015-08-10', '2015-08-11',\n",
       "               '2015-08-12', '2015-08-13', '2015-08-14', '2015-08-17',\n",
       "               '2015-08-18', '2015-08-19',\n",
       "               ...\n",
       "               '2020-07-22', '2020-07-23', '2020-07-24', '2020-07-27',\n",
       "               '2020-07-28', '2020-07-29', '2020-07-30', '2020-07-31',\n",
       "               '2020-08-03', '2020-08-04'],\n",
       "              dtype='datetime64[ns]', name='Date', length=1258, freq=None)"
      ]
     },
     "execution_count": 10,
     "metadata": {},
     "output_type": "execute_result"
    }
   ],
   "source": [
    "stocks.index"
   ]
  },
  {
   "cell_type": "code",
   "execution_count": 11,
   "metadata": {},
   "outputs": [
    {
     "data": {
      "text/plain": [
       "DatetimeIndex(['2015-08-31', '2015-08-31', '2015-08-31', '2015-08-31',\n",
       "               '2015-08-31', '2015-08-31', '2015-08-31', '2015-08-31',\n",
       "               '2015-08-31', '2015-08-31',\n",
       "               ...\n",
       "               '2020-07-31', '2020-07-31', '2020-07-31', '2020-07-31',\n",
       "               '2020-07-31', '2020-07-31', '2020-07-31', '2020-08-31',\n",
       "               '2020-08-31', '2020-08-31'],\n",
       "              dtype='datetime64[ns]', name='Date', length=1258, freq=None)"
      ]
     },
     "execution_count": 11,
     "metadata": {},
     "output_type": "execute_result"
    }
   ],
   "source": [
    "stocks.index + pd.tseries.offsets.MonthEnd()"
   ]
  },
  {
   "cell_type": "code",
   "execution_count": 12,
   "metadata": {},
   "outputs": [
    {
     "data": {
      "text/plain": [
       "DatetimeIndex(['2015-07-31', '2015-07-31', '2015-07-31', '2015-07-31',\n",
       "               '2015-07-31', '2015-07-31', '2015-07-31', '2015-07-31',\n",
       "               '2015-07-31', '2015-07-31',\n",
       "               ...\n",
       "               '2020-06-30', '2020-06-30', '2020-06-30', '2020-06-30',\n",
       "               '2020-06-30', '2020-06-30', '2020-06-30', '2020-06-30',\n",
       "               '2020-07-31', '2020-07-31'],\n",
       "              dtype='datetime64[ns]', name='Date', length=1258, freq=None)"
      ]
     },
     "execution_count": 12,
     "metadata": {},
     "output_type": "execute_result"
    }
   ],
   "source": [
    "stocks.index - pd.tseries.offsets.MonthEnd()"
   ]
  },
  {
   "cell_type": "code",
   "execution_count": 15,
   "metadata": {},
   "outputs": [
    {
     "data": {
      "text/plain": [
       "DatetimeIndex(['2015-09-01', '2015-09-01', '2015-09-01', '2015-09-01',\n",
       "               '2015-09-01', '2015-09-01', '2015-09-01', '2015-09-01',\n",
       "               '2015-09-01', '2015-09-01',\n",
       "               ...\n",
       "               '2020-08-03', '2020-08-03', '2020-08-03', '2020-08-03',\n",
       "               '2020-08-03', '2020-08-03', '2020-08-03', '2020-08-03',\n",
       "               '2020-09-01', '2020-09-01'],\n",
       "              dtype='datetime64[ns]', name='Date', length=1258, freq=None)"
      ]
     },
     "execution_count": 15,
     "metadata": {},
     "output_type": "execute_result"
    }
   ],
   "source": [
    "stocks.index + BMonthBegin()\n",
    "#quterbegin , quaterend , year end , year begin"
   ]
  },
  {
   "cell_type": "markdown",
   "metadata": {},
   "source": [
    "# Time delta object\n",
    "It represent a distance. We have something like a timestamp which return or tell the date or year or month . But timedelts represent the duration or the distance of the time such as 5 days 2 hours."
   ]
  },
  {
   "cell_type": "code",
   "execution_count": 20,
   "metadata": {},
   "outputs": [
    {
     "data": {
      "text/plain": [
       "pandas._libs.tslibs.timedeltas.Timedelta"
      ]
     },
     "execution_count": 20,
     "metadata": {},
     "output_type": "execute_result"
    }
   ],
   "source": [
    "a = pd.Timestamp(\"2020-08-29\")\n",
    "b = pd.Timestamp(\"2020-09-08\")\n",
    "b-a\n",
    "\n",
    "#will return a timedelta object that give me the diffrence \n",
    "type(b-a)"
   ]
  },
  {
   "cell_type": "code",
   "execution_count": 23,
   "metadata": {},
   "outputs": [
    {
     "data": {
      "text/plain": [
       "Timedelta('24 days 00:10:00')"
      ]
     },
     "execution_count": 23,
     "metadata": {},
     "output_type": "execute_result"
    }
   ],
   "source": [
    "#timedelts constructer method\n",
    "pd.Timedelta(days=3,minutes=10,weeks=3)"
   ]
  },
  {
   "cell_type": "code",
   "execution_count": 24,
   "metadata": {},
   "outputs": [
    {
     "data": {
      "text/plain": [
       "Timedelta('0 days 06:00:00')"
      ]
     },
     "execution_count": 24,
     "metadata": {},
     "output_type": "execute_result"
    }
   ],
   "source": [
    "pd.Timedelta(\"6 hours\")"
   ]
  },
  {
   "cell_type": "code",
   "execution_count": 25,
   "metadata": {},
   "outputs": [
    {
     "data": {
      "text/plain": [
       "Timedelta('0 days 06:20:00')"
      ]
     },
     "execution_count": 25,
     "metadata": {},
     "output_type": "execute_result"
    }
   ],
   "source": [
    "pd.Timedelta(\"6 hours 20 minutes\")"
   ]
  },
  {
   "cell_type": "code",
   "execution_count": 27,
   "metadata": {},
   "outputs": [
    {
     "data": {
      "text/plain": [
       "Timedelta('10 days 06:00:00')"
      ]
     },
     "execution_count": 27,
     "metadata": {},
     "output_type": "execute_result"
    }
   ],
   "source": [
    "pd.Timedelta(\" 10 days 6 hours\")"
   ]
  },
  {
   "cell_type": "markdown",
   "metadata": {},
   "source": [
    "# Timedelta in dataset"
   ]
  },
  {
   "cell_type": "code",
   "execution_count": 30,
   "metadata": {},
   "outputs": [
    {
     "data": {
      "text/html": [
       "<div>\n",
       "<style scoped>\n",
       "    .dataframe tbody tr th:only-of-type {\n",
       "        vertical-align: middle;\n",
       "    }\n",
       "\n",
       "    .dataframe tbody tr th {\n",
       "        vertical-align: top;\n",
       "    }\n",
       "\n",
       "    .dataframe thead th {\n",
       "        text-align: right;\n",
       "    }\n",
       "</style>\n",
       "<table border=\"1\" class=\"dataframe\">\n",
       "  <thead>\n",
       "    <tr style=\"text-align: right;\">\n",
       "      <th></th>\n",
       "      <th>order_date</th>\n",
       "      <th>delivery_date</th>\n",
       "    </tr>\n",
       "    <tr>\n",
       "      <th>ID</th>\n",
       "      <th></th>\n",
       "      <th></th>\n",
       "    </tr>\n",
       "  </thead>\n",
       "  <tbody>\n",
       "    <tr>\n",
       "      <th>1</th>\n",
       "      <td>5/24/98</td>\n",
       "      <td>2/5/99</td>\n",
       "    </tr>\n",
       "    <tr>\n",
       "      <th>2</th>\n",
       "      <td>4/22/92</td>\n",
       "      <td>3/6/98</td>\n",
       "    </tr>\n",
       "    <tr>\n",
       "      <th>4</th>\n",
       "      <td>2/10/91</td>\n",
       "      <td>8/26/92</td>\n",
       "    </tr>\n",
       "    <tr>\n",
       "      <th>5</th>\n",
       "      <td>7/21/92</td>\n",
       "      <td>11/20/97</td>\n",
       "    </tr>\n",
       "    <tr>\n",
       "      <th>7</th>\n",
       "      <td>9/2/93</td>\n",
       "      <td>6/10/98</td>\n",
       "    </tr>\n",
       "    <tr>\n",
       "      <th>...</th>\n",
       "      <td>...</td>\n",
       "      <td>...</td>\n",
       "    </tr>\n",
       "    <tr>\n",
       "      <th>990</th>\n",
       "      <td>6/24/91</td>\n",
       "      <td>2/2/96</td>\n",
       "    </tr>\n",
       "    <tr>\n",
       "      <th>991</th>\n",
       "      <td>9/9/91</td>\n",
       "      <td>3/30/98</td>\n",
       "    </tr>\n",
       "    <tr>\n",
       "      <th>993</th>\n",
       "      <td>11/16/90</td>\n",
       "      <td>4/27/98</td>\n",
       "    </tr>\n",
       "    <tr>\n",
       "      <th>994</th>\n",
       "      <td>6/3/93</td>\n",
       "      <td>6/13/93</td>\n",
       "    </tr>\n",
       "    <tr>\n",
       "      <th>997</th>\n",
       "      <td>1/4/90</td>\n",
       "      <td>10/3/91</td>\n",
       "    </tr>\n",
       "  </tbody>\n",
       "</table>\n",
       "<p>501 rows × 2 columns</p>\n",
       "</div>"
      ],
      "text/plain": [
       "    order_date delivery_date\n",
       "ID                          \n",
       "1      5/24/98        2/5/99\n",
       "2      4/22/92        3/6/98\n",
       "4      2/10/91       8/26/92\n",
       "5      7/21/92      11/20/97\n",
       "7       9/2/93       6/10/98\n",
       "..         ...           ...\n",
       "990    6/24/91        2/2/96\n",
       "991     9/9/91       3/30/98\n",
       "993   11/16/90       4/27/98\n",
       "994     6/3/93       6/13/93\n",
       "997     1/4/90       10/3/91\n",
       "\n",
       "[501 rows x 2 columns]"
      ]
     },
     "execution_count": 30,
     "metadata": {},
     "output_type": "execute_result"
    }
   ],
   "source": [
    "df = pd.read_csv('datasets/ecommerce.csv')\n",
    "#shipping structer of a company\n",
    "df\n",
    "#make id as a index column\n",
    "df = pd.read_csv('datasets/ecommerce.csv',index_col='ID')\n",
    "df"
   ]
  },
  {
   "cell_type": "code",
   "execution_count": 32,
   "metadata": {},
   "outputs": [
    {
     "data": {
      "text/html": [
       "<div>\n",
       "<style scoped>\n",
       "    .dataframe tbody tr th:only-of-type {\n",
       "        vertical-align: middle;\n",
       "    }\n",
       "\n",
       "    .dataframe tbody tr th {\n",
       "        vertical-align: top;\n",
       "    }\n",
       "\n",
       "    .dataframe thead th {\n",
       "        text-align: right;\n",
       "    }\n",
       "</style>\n",
       "<table border=\"1\" class=\"dataframe\">\n",
       "  <thead>\n",
       "    <tr style=\"text-align: right;\">\n",
       "      <th></th>\n",
       "      <th>order_date</th>\n",
       "      <th>delivery_date</th>\n",
       "    </tr>\n",
       "    <tr>\n",
       "      <th>ID</th>\n",
       "      <th></th>\n",
       "      <th></th>\n",
       "    </tr>\n",
       "  </thead>\n",
       "  <tbody>\n",
       "    <tr>\n",
       "      <th>1</th>\n",
       "      <td>1998-05-24</td>\n",
       "      <td>1999-02-05</td>\n",
       "    </tr>\n",
       "    <tr>\n",
       "      <th>2</th>\n",
       "      <td>1992-04-22</td>\n",
       "      <td>1998-03-06</td>\n",
       "    </tr>\n",
       "    <tr>\n",
       "      <th>4</th>\n",
       "      <td>1991-02-10</td>\n",
       "      <td>1992-08-26</td>\n",
       "    </tr>\n",
       "    <tr>\n",
       "      <th>5</th>\n",
       "      <td>1992-07-21</td>\n",
       "      <td>1997-11-20</td>\n",
       "    </tr>\n",
       "    <tr>\n",
       "      <th>7</th>\n",
       "      <td>1993-09-02</td>\n",
       "      <td>1998-06-10</td>\n",
       "    </tr>\n",
       "    <tr>\n",
       "      <th>...</th>\n",
       "      <td>...</td>\n",
       "      <td>...</td>\n",
       "    </tr>\n",
       "    <tr>\n",
       "      <th>990</th>\n",
       "      <td>1991-06-24</td>\n",
       "      <td>1996-02-02</td>\n",
       "    </tr>\n",
       "    <tr>\n",
       "      <th>991</th>\n",
       "      <td>1991-09-09</td>\n",
       "      <td>1998-03-30</td>\n",
       "    </tr>\n",
       "    <tr>\n",
       "      <th>993</th>\n",
       "      <td>1990-11-16</td>\n",
       "      <td>1998-04-27</td>\n",
       "    </tr>\n",
       "    <tr>\n",
       "      <th>994</th>\n",
       "      <td>1993-06-03</td>\n",
       "      <td>1993-06-13</td>\n",
       "    </tr>\n",
       "    <tr>\n",
       "      <th>997</th>\n",
       "      <td>1990-01-04</td>\n",
       "      <td>1991-10-03</td>\n",
       "    </tr>\n",
       "  </tbody>\n",
       "</table>\n",
       "<p>501 rows × 2 columns</p>\n",
       "</div>"
      ],
      "text/plain": [
       "    order_date delivery_date\n",
       "ID                          \n",
       "1   1998-05-24    1999-02-05\n",
       "2   1992-04-22    1998-03-06\n",
       "4   1991-02-10    1992-08-26\n",
       "5   1992-07-21    1997-11-20\n",
       "7   1993-09-02    1998-06-10\n",
       "..         ...           ...\n",
       "990 1991-06-24    1996-02-02\n",
       "991 1991-09-09    1998-03-30\n",
       "993 1990-11-16    1998-04-27\n",
       "994 1993-06-03    1993-06-13\n",
       "997 1990-01-04    1991-10-03\n",
       "\n",
       "[501 rows x 2 columns]"
      ]
     },
     "execution_count": 32,
     "metadata": {},
     "output_type": "execute_result"
    }
   ],
   "source": [
    "#both coloumn in string so we have to make them in datetime \n",
    "df = pd.read_csv('datasets/ecommerce.csv',index_col='ID',parse_dates=['order_date','delivery_date'])\n",
    "df"
   ]
  },
  {
   "cell_type": "code",
   "execution_count": 33,
   "metadata": {},
   "outputs": [
    {
     "data": {
      "text/plain": [
       "ID\n",
       "1      257 days\n",
       "2     2144 days\n",
       "4      563 days\n",
       "5     1948 days\n",
       "7     1742 days\n",
       "         ...   \n",
       "990   1684 days\n",
       "991   2394 days\n",
       "993   2719 days\n",
       "994     10 days\n",
       "997    637 days\n",
       "Length: 501, dtype: timedelta64[ns]"
      ]
     },
     "execution_count": 33,
     "metadata": {},
     "output_type": "execute_result"
    }
   ],
   "source": [
    "df['delivery_date'] - df['order_date']"
   ]
  },
  {
   "cell_type": "code",
   "execution_count": 34,
   "metadata": {},
   "outputs": [],
   "source": [
    "df['Dilivery Time'] = df['delivery_date'] - df['order_date']"
   ]
  },
  {
   "cell_type": "code",
   "execution_count": 35,
   "metadata": {},
   "outputs": [
    {
     "data": {
      "text/html": [
       "<div>\n",
       "<style scoped>\n",
       "    .dataframe tbody tr th:only-of-type {\n",
       "        vertical-align: middle;\n",
       "    }\n",
       "\n",
       "    .dataframe tbody tr th {\n",
       "        vertical-align: top;\n",
       "    }\n",
       "\n",
       "    .dataframe thead th {\n",
       "        text-align: right;\n",
       "    }\n",
       "</style>\n",
       "<table border=\"1\" class=\"dataframe\">\n",
       "  <thead>\n",
       "    <tr style=\"text-align: right;\">\n",
       "      <th></th>\n",
       "      <th>order_date</th>\n",
       "      <th>delivery_date</th>\n",
       "      <th>Dilivery Time</th>\n",
       "    </tr>\n",
       "    <tr>\n",
       "      <th>ID</th>\n",
       "      <th></th>\n",
       "      <th></th>\n",
       "      <th></th>\n",
       "    </tr>\n",
       "  </thead>\n",
       "  <tbody>\n",
       "    <tr>\n",
       "      <th>1</th>\n",
       "      <td>1998-05-24</td>\n",
       "      <td>1999-02-05</td>\n",
       "      <td>257 days</td>\n",
       "    </tr>\n",
       "    <tr>\n",
       "      <th>2</th>\n",
       "      <td>1992-04-22</td>\n",
       "      <td>1998-03-06</td>\n",
       "      <td>2144 days</td>\n",
       "    </tr>\n",
       "    <tr>\n",
       "      <th>4</th>\n",
       "      <td>1991-02-10</td>\n",
       "      <td>1992-08-26</td>\n",
       "      <td>563 days</td>\n",
       "    </tr>\n",
       "    <tr>\n",
       "      <th>5</th>\n",
       "      <td>1992-07-21</td>\n",
       "      <td>1997-11-20</td>\n",
       "      <td>1948 days</td>\n",
       "    </tr>\n",
       "    <tr>\n",
       "      <th>7</th>\n",
       "      <td>1993-09-02</td>\n",
       "      <td>1998-06-10</td>\n",
       "      <td>1742 days</td>\n",
       "    </tr>\n",
       "    <tr>\n",
       "      <th>...</th>\n",
       "      <td>...</td>\n",
       "      <td>...</td>\n",
       "      <td>...</td>\n",
       "    </tr>\n",
       "    <tr>\n",
       "      <th>990</th>\n",
       "      <td>1991-06-24</td>\n",
       "      <td>1996-02-02</td>\n",
       "      <td>1684 days</td>\n",
       "    </tr>\n",
       "    <tr>\n",
       "      <th>991</th>\n",
       "      <td>1991-09-09</td>\n",
       "      <td>1998-03-30</td>\n",
       "      <td>2394 days</td>\n",
       "    </tr>\n",
       "    <tr>\n",
       "      <th>993</th>\n",
       "      <td>1990-11-16</td>\n",
       "      <td>1998-04-27</td>\n",
       "      <td>2719 days</td>\n",
       "    </tr>\n",
       "    <tr>\n",
       "      <th>994</th>\n",
       "      <td>1993-06-03</td>\n",
       "      <td>1993-06-13</td>\n",
       "      <td>10 days</td>\n",
       "    </tr>\n",
       "    <tr>\n",
       "      <th>997</th>\n",
       "      <td>1990-01-04</td>\n",
       "      <td>1991-10-03</td>\n",
       "      <td>637 days</td>\n",
       "    </tr>\n",
       "  </tbody>\n",
       "</table>\n",
       "<p>501 rows × 3 columns</p>\n",
       "</div>"
      ],
      "text/plain": [
       "    order_date delivery_date Dilivery Time\n",
       "ID                                        \n",
       "1   1998-05-24    1999-02-05      257 days\n",
       "2   1992-04-22    1998-03-06     2144 days\n",
       "4   1991-02-10    1992-08-26      563 days\n",
       "5   1992-07-21    1997-11-20     1948 days\n",
       "7   1993-09-02    1998-06-10     1742 days\n",
       "..         ...           ...           ...\n",
       "990 1991-06-24    1996-02-02     1684 days\n",
       "991 1991-09-09    1998-03-30     2394 days\n",
       "993 1990-11-16    1998-04-27     2719 days\n",
       "994 1993-06-03    1993-06-13       10 days\n",
       "997 1990-01-04    1991-10-03      637 days\n",
       "\n",
       "[501 rows x 3 columns]"
      ]
     },
     "execution_count": 35,
     "metadata": {},
     "output_type": "execute_result"
    }
   ],
   "source": [
    "df"
   ]
  },
  {
   "cell_type": "code",
   "execution_count": null,
   "metadata": {},
   "outputs": [],
   "source": []
  },
  {
   "cell_type": "code",
   "execution_count": null,
   "metadata": {},
   "outputs": [],
   "source": []
  },
  {
   "cell_type": "code",
   "execution_count": null,
   "metadata": {},
   "outputs": [],
   "source": []
  },
  {
   "cell_type": "code",
   "execution_count": null,
   "metadata": {},
   "outputs": [],
   "source": []
  },
  {
   "cell_type": "code",
   "execution_count": null,
   "metadata": {},
   "outputs": [],
   "source": []
  },
  {
   "cell_type": "code",
   "execution_count": null,
   "metadata": {},
   "outputs": [],
   "source": []
  },
  {
   "cell_type": "code",
   "execution_count": null,
   "metadata": {},
   "outputs": [],
   "source": []
  }
 ],
 "metadata": {
  "kernelspec": {
   "display_name": "Python 3",
   "language": "python",
   "name": "python3"
  },
  "language_info": {
   "codemirror_mode": {
    "name": "ipython",
    "version": 3
   },
   "file_extension": ".py",
   "mimetype": "text/x-python",
   "name": "python",
   "nbconvert_exporter": "python",
   "pygments_lexer": "ipython3",
   "version": "3.6.9"
  }
 },
 "nbformat": 4,
 "nbformat_minor": 2
}
