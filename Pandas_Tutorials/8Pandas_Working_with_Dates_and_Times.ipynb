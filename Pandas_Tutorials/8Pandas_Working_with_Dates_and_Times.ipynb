{
 "cells": [
  {
   "cell_type": "markdown",
   "metadata": {},
   "source": [
    "# Pandas Date Time\n",
    "Many times we got a data which reflects time or specific day something that something occured.We may want to perform some analysis or operation or any calucaltion like get the distance between 2 days or the duration, finding out what day of the week something occured or classifying data by something like quator which occured.In this tutorial we are going to discuss Python's Datetime modules.Firstly we will discuss about all about the datetime module in python then we will discuss how pandas is going to handle this dates and time.\n",
    "Author: Amanpreet Singh(aman64039@gmail.com)"
   ]
  },
  {
   "cell_type": "code",
   "execution_count": 1,
   "metadata": {},
   "outputs": [],
   "source": [
    "import pandas as pd\n",
    "import datetime as dt #datetime module of python "
   ]
  },
  {
   "cell_type": "markdown",
   "metadata": {},
   "source": [
    "# Review of Python's datetime Module"
   ]
  },
  {
   "cell_type": "code",
   "execution_count": 11,
   "metadata": {},
   "outputs": [
    {
     "data": {
      "text/plain": [
       "2019"
      ]
     },
     "execution_count": 11,
     "metadata": {},
     "output_type": "execute_result"
    }
   ],
   "source": [
    "bday = dt.date(2019,8,29)\n",
    "bday.day\n",
    "bday.month\n",
    "bday.year\n"
   ]
  },
  {
   "cell_type": "code",
   "execution_count": 19,
   "metadata": {},
   "outputs": [
    {
     "data": {
      "text/plain": [
       "datetime.datetime(2019, 8, 29, 22, 5, 2)"
      ]
     },
     "execution_count": 19,
     "metadata": {},
     "output_type": "execute_result"
    }
   ],
   "source": [
    "dt.datetime(2019,8,29, 22,5,2)#year , month,day,hour,min , seconds\n",
    "#if we are not passing any tie  it willl pick 0 as midnight"
   ]
  },
  {
   "cell_type": "code",
   "execution_count": 22,
   "metadata": {},
   "outputs": [
    {
     "data": {
      "text/plain": [
       "'2019-08-29 22:05:02'"
      ]
     },
     "execution_count": 22,
     "metadata": {},
     "output_type": "execute_result"
    }
   ],
   "source": [
    "str(dt.datetime(2019,8,29, 22,5,2)) #gettinng in str"
   ]
  },
  {
   "cell_type": "code",
   "execution_count": 31,
   "metadata": {},
   "outputs": [
    {
     "data": {
      "text/plain": [
       "'\\nIts really efective when we are working with dates and you may want to extract\\nsomething like a revenue of 2nd month.In order to aggreagate we will be \\nable to extrcat the month from every date even though teh dates may be diffrent one \\n'"
      ]
     },
     "execution_count": 31,
     "metadata": {},
     "output_type": "execute_result"
    }
   ],
   "source": [
    "a =dt.datetime(2019,8,29, 22,5,2)\n",
    "b = str(a)\n",
    "b\n",
    "a.hour\n",
    "a.minute\n",
    "a.second\n",
    "\"\"\"\n",
    "Its really efective when we are working with dates and you may want to extract\n",
    "something like a revenue of 2nd month.In order to aggreagate we will be \n",
    "able to extrcat the month from every date even though teh dates may be diffrent one \n",
    "\"\"\""
   ]
  },
  {
   "cell_type": "markdown",
   "metadata": {},
   "source": [
    "# The pandas TimeStamp object\n",
    "Timestamp object is basically pandas version of Python's datetime.It represents a single time stamp or a single moment in time and it can have dates and times it doesn't need the time component however and much like Python's daytime object. If the user does not provide a specific time it's just going to default to midnight on that day.\n"
   ]
  },
  {
   "cell_type": "code",
   "execution_count": 49,
   "metadata": {},
   "outputs": [
    {
     "data": {
      "text/plain": [
       "Timestamp('2020-08-29 22:05:00')"
      ]
     },
     "execution_count": 49,
     "metadata": {},
     "output_type": "execute_result"
    }
   ],
   "source": [
    "pd.Timestamp(\"2020-08-29\")\n",
    "pd.Timestamp(\"2020/08/29\")\n",
    "pd.Timestamp(\"2020/08/29\")#y/m/d\n",
    "pd.Timestamp(\"2020,29,08\")#with coma y,date,month\n",
    "pd.Timestamp(\"29/08/2020\")\n",
    "pd.Timestamp(\"4/03/2020\")#it will take as first as month\n",
    "pd.Timestamp(\"29/08/2020 22:05:00\")\n",
    "pd.Timestamp(\"29/08/2020 10:05:00 pm\")\n"
   ]
  },
  {
   "cell_type": "code",
   "execution_count": 50,
   "metadata": {},
   "outputs": [
    {
     "data": {
      "text/plain": [
       "Timestamp('2019-08-29 00:00:00')"
      ]
     },
     "execution_count": 50,
     "metadata": {},
     "output_type": "execute_result"
    }
   ],
   "source": [
    "pd.Timestamp(dt.date(2019,8,29))"
   ]
  },
  {
   "cell_type": "markdown",
   "metadata": {},
   "source": [
    "# The pandas DateTimeINdex Object\n",
    "It is just a collection of pandas timestamp."
   ]
  },
  {
   "cell_type": "code",
   "execution_count": 9,
   "metadata": {},
   "outputs": [
    {
     "data": {
      "text/plain": [
       "pandas.core.indexes.datetimes.DatetimeIndex"
      ]
     },
     "execution_count": 9,
     "metadata": {},
     "output_type": "execute_result"
    }
   ],
   "source": [
    "dates = [\"2016-01-01\",\"2017-02-02\",\"2018-03-03\",\"2019-04-04\",\"2020-05-05\"]\n",
    "dates\n",
    "pd.DatetimeIndex(dates)#will return the datetime index object\n",
    "type(pd.DatetimeIndex(dates))"
   ]
  },
  {
   "cell_type": "code",
   "execution_count": 7,
   "metadata": {},
   "outputs": [
    {
     "data": {
      "text/plain": [
       "DatetimeIndex(['2016-01-01', '2017-02-02', '2018-03-03', '2019-04-04',\n",
       "               '2020-05-05'],\n",
       "              dtype='datetime64[ns]', freq=None)"
      ]
     },
     "execution_count": 7,
     "metadata": {},
     "output_type": "execute_result"
    }
   ],
   "source": [
    "#changing the format of dates\n",
    "dates = list(map(lambda x:x.replace('-','/'),dates))\n",
    "dates\n",
    "pd.DatetimeIndex(dates)"
   ]
  },
  {
   "cell_type": "code",
   "execution_count": 16,
   "metadata": {},
   "outputs": [],
   "source": [
    "dates = [dt.datetime(2016,5,4),dt.datetime(2017,5,4),dt.datetime(2018,5,4),]\n",
    "datetimeindex = pd.DatetimeIndex(dates)"
   ]
  },
  {
   "cell_type": "code",
   "execution_count": 18,
   "metadata": {},
   "outputs": [
    {
     "data": {
      "text/plain": [
       "2016-05-04    100\n",
       "2017-05-04    200\n",
       "2018-05-04    300\n",
       "dtype: int64"
      ]
     },
     "execution_count": 18,
     "metadata": {},
     "output_type": "execute_result"
    }
   ],
   "source": [
    "value = [100,200,300]\n",
    "s = pd.Series(value,index= datetimeindex)\n",
    "s"
   ]
  },
  {
   "cell_type": "markdown",
   "metadata": {},
   "source": [
    "# Pandas to_date() method\n",
    "This basically method call to convert a existig data object into a pandas time related object. i.e it can take an input of a string ,  or a list of string or python datetime object and convert into pandas timestamp"
   ]
  },
  {
   "cell_type": "code",
   "execution_count": 22,
   "metadata": {},
   "outputs": [
    {
     "data": {
      "text/plain": [
       "DatetimeIndex(['2020-08-29', '2020-08-29', '2020-01-01', '1990-07-04'], dtype='datetime64[ns]', freq=None)"
      ]
     },
     "execution_count": 22,
     "metadata": {},
     "output_type": "execute_result"
    }
   ],
   "source": [
    "#some examples\n",
    "pd.to_datetime(\"2001-04-05\")\n",
    "pd.to_datetime(dt.datetime(2016,4,5))\n",
    "pd.to_datetime(dt.datetime(2016,4,5,14,4,2))\n",
    "pd.to_datetime([\"2020-08-29\",\"2020/08/29\",\"2020\",\"July 4th,1990\"])"
   ]
  },
  {
   "cell_type": "code",
   "execution_count": null,
   "metadata": {},
   "outputs": [],
   "source": []
  },
  {
   "cell_type": "code",
   "execution_count": null,
   "metadata": {},
   "outputs": [],
   "source": []
  },
  {
   "cell_type": "code",
   "execution_count": null,
   "metadata": {},
   "outputs": [],
   "source": []
  },
  {
   "cell_type": "code",
   "execution_count": null,
   "metadata": {},
   "outputs": [],
   "source": []
  },
  {
   "cell_type": "code",
   "execution_count": null,
   "metadata": {},
   "outputs": [],
   "source": []
  },
  {
   "cell_type": "code",
   "execution_count": null,
   "metadata": {},
   "outputs": [],
   "source": []
  }
 ],
 "metadata": {
  "kernelspec": {
   "display_name": "Python 3",
   "language": "python",
   "name": "python3"
  },
  "language_info": {
   "codemirror_mode": {
    "name": "ipython",
    "version": 3
   },
   "file_extension": ".py",
   "mimetype": "text/x-python",
   "name": "python",
   "nbconvert_exporter": "python",
   "pygments_lexer": "ipython3",
   "version": "3.6.9"
  }
 },
 "nbformat": 4,
 "nbformat_minor": 2
}
