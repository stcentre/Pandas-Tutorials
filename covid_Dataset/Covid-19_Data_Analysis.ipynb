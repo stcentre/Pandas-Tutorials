{
 "cells": [
  {
   "cell_type": "markdown",
   "metadata": {},
   "source": [
    "# Covid-19 Data Analysis"
   ]
  },
  {
   "cell_type": "markdown",
   "metadata": {},
   "source": [
    "Import Libraries"
   ]
  },
  {
   "cell_type": "code",
   "execution_count": 17,
   "metadata": {},
   "outputs": [],
   "source": [
    "import numpy as np\n",
    "import pandas as pd\n",
    "import matplotlib.pyplot as plt \n",
    "import json\n",
    "import requests"
   ]
  },
  {
   "cell_type": "markdown",
   "metadata": {},
   "source": [
    "Get data from api"
   ]
  },
  {
   "cell_type": "code",
   "execution_count": 19,
   "metadata": {},
   "outputs": [
    {
     "data": {
      "text/html": [
       "<div>\n",
       "<style scoped>\n",
       "    .dataframe tbody tr th:only-of-type {\n",
       "        vertical-align: middle;\n",
       "    }\n",
       "\n",
       "    .dataframe tbody tr th {\n",
       "        vertical-align: top;\n",
       "    }\n",
       "\n",
       "    .dataframe thead th {\n",
       "        text-align: right;\n",
       "    }\n",
       "</style>\n",
       "<table border=\"1\" class=\"dataframe\">\n",
       "  <thead>\n",
       "    <tr style=\"text-align: right;\">\n",
       "      <th></th>\n",
       "      <th>Patient Number</th>\n",
       "      <th>State Patient Number</th>\n",
       "      <th>Date Announced</th>\n",
       "      <th>Estimated Onset Date</th>\n",
       "      <th>Age Bracket</th>\n",
       "      <th>Gender</th>\n",
       "      <th>Detected City</th>\n",
       "      <th>Detected District</th>\n",
       "      <th>Detected State</th>\n",
       "      <th>State code</th>\n",
       "      <th>...</th>\n",
       "      <th>Notes</th>\n",
       "      <th>Contracted from which Patient (Suspected)</th>\n",
       "      <th>Nationality</th>\n",
       "      <th>Type of transmission</th>\n",
       "      <th>Status Change Date</th>\n",
       "      <th>Source_1</th>\n",
       "      <th>Source_2</th>\n",
       "      <th>Source_3</th>\n",
       "      <th>Backup Notes</th>\n",
       "      <th>Num Cases</th>\n",
       "    </tr>\n",
       "  </thead>\n",
       "  <tbody>\n",
       "    <tr>\n",
       "      <th>0</th>\n",
       "      <td>1.0</td>\n",
       "      <td>KL-TS-P1</td>\n",
       "      <td>30/01/2020</td>\n",
       "      <td>NaN</td>\n",
       "      <td>20</td>\n",
       "      <td>F</td>\n",
       "      <td>Thrissur</td>\n",
       "      <td>Thrissur</td>\n",
       "      <td>Kerala</td>\n",
       "      <td>KL</td>\n",
       "      <td>...</td>\n",
       "      <td>Travelled from Wuhan</td>\n",
       "      <td>NaN</td>\n",
       "      <td>India</td>\n",
       "      <td>Imported</td>\n",
       "      <td>14/02/2020</td>\n",
       "      <td>https://twitter.com/vijayanpinarayi/status/122...</td>\n",
       "      <td>https://weather.com/en-IN/india/news/news/2020...</td>\n",
       "      <td>NaN</td>\n",
       "      <td>Student from Wuhan</td>\n",
       "      <td>1</td>\n",
       "    </tr>\n",
       "    <tr>\n",
       "      <th>1</th>\n",
       "      <td>2.0</td>\n",
       "      <td>KL-AL-P1</td>\n",
       "      <td>02/02/2020</td>\n",
       "      <td>NaN</td>\n",
       "      <td>NaN</td>\n",
       "      <td>NaN</td>\n",
       "      <td>Alappuzha</td>\n",
       "      <td>Alappuzha</td>\n",
       "      <td>Kerala</td>\n",
       "      <td>KL</td>\n",
       "      <td>...</td>\n",
       "      <td>Travelled from Wuhan</td>\n",
       "      <td>NaN</td>\n",
       "      <td>India</td>\n",
       "      <td>Imported</td>\n",
       "      <td>14/02/2020</td>\n",
       "      <td>https://www.indiatoday.in/india/story/kerala-r...</td>\n",
       "      <td>https://weather.com/en-IN/india/news/news/2020...</td>\n",
       "      <td>NaN</td>\n",
       "      <td>Student from Wuhan</td>\n",
       "      <td>1</td>\n",
       "    </tr>\n",
       "    <tr>\n",
       "      <th>2</th>\n",
       "      <td>3.0</td>\n",
       "      <td>KL-KS-P1</td>\n",
       "      <td>03/02/2020</td>\n",
       "      <td>NaN</td>\n",
       "      <td>NaN</td>\n",
       "      <td>NaN</td>\n",
       "      <td>Kasaragod</td>\n",
       "      <td>Kasaragod</td>\n",
       "      <td>Kerala</td>\n",
       "      <td>KL</td>\n",
       "      <td>...</td>\n",
       "      <td>Travelled from Wuhan</td>\n",
       "      <td>NaN</td>\n",
       "      <td>India</td>\n",
       "      <td>Imported</td>\n",
       "      <td>14/02/2020</td>\n",
       "      <td>https://www.indiatoday.in/india/story/kerala-n...</td>\n",
       "      <td>https://twitter.com/ANI/status/122422148580539...</td>\n",
       "      <td>https://weather.com/en-IN/india/news/news/2020...</td>\n",
       "      <td>Student from Wuhan</td>\n",
       "      <td>1</td>\n",
       "    </tr>\n",
       "    <tr>\n",
       "      <th>3</th>\n",
       "      <td>4.0</td>\n",
       "      <td>DL-P1</td>\n",
       "      <td>02/03/2020</td>\n",
       "      <td>NaN</td>\n",
       "      <td>45</td>\n",
       "      <td>M</td>\n",
       "      <td>East Delhi (Mayur Vihar)</td>\n",
       "      <td>East Delhi</td>\n",
       "      <td>Delhi</td>\n",
       "      <td>DL</td>\n",
       "      <td>...</td>\n",
       "      <td>Travelled from Austria, Italy</td>\n",
       "      <td>NaN</td>\n",
       "      <td>India</td>\n",
       "      <td>Imported</td>\n",
       "      <td>15/03/2020</td>\n",
       "      <td>https://www.indiatoday.in/india/story/not-a-ja...</td>\n",
       "      <td>https://economictimes.indiatimes.com/news/poli...</td>\n",
       "      <td>NaN</td>\n",
       "      <td>Travel history to Italy and Austria</td>\n",
       "      <td>1</td>\n",
       "    </tr>\n",
       "    <tr>\n",
       "      <th>4</th>\n",
       "      <td>5.0</td>\n",
       "      <td>TS-P1</td>\n",
       "      <td>02/03/2020</td>\n",
       "      <td>NaN</td>\n",
       "      <td>24</td>\n",
       "      <td>M</td>\n",
       "      <td>Hyderabad</td>\n",
       "      <td>Hyderabad</td>\n",
       "      <td>Telangana</td>\n",
       "      <td>TG</td>\n",
       "      <td>...</td>\n",
       "      <td>Travelled from Dubai to Bangalore on 20th Feb,...</td>\n",
       "      <td>NaN</td>\n",
       "      <td>India</td>\n",
       "      <td>Imported</td>\n",
       "      <td>02/03/2020</td>\n",
       "      <td>https://www.deccanherald.com/national/south/qu...</td>\n",
       "      <td>https://www.indiatoday.in/india/story/coronavi...</td>\n",
       "      <td>https://www.thehindu.com/news/national/coronav...</td>\n",
       "      <td>Travel history to Dubai, Singapore contact</td>\n",
       "      <td>1</td>\n",
       "    </tr>\n",
       "    <tr>\n",
       "      <th>...</th>\n",
       "      <td>...</td>\n",
       "      <td>...</td>\n",
       "      <td>...</td>\n",
       "      <td>...</td>\n",
       "      <td>...</td>\n",
       "      <td>...</td>\n",
       "      <td>...</td>\n",
       "      <td>...</td>\n",
       "      <td>...</td>\n",
       "      <td>...</td>\n",
       "      <td>...</td>\n",
       "      <td>...</td>\n",
       "      <td>...</td>\n",
       "      <td>...</td>\n",
       "      <td>...</td>\n",
       "      <td>...</td>\n",
       "      <td>...</td>\n",
       "      <td>...</td>\n",
       "      <td>...</td>\n",
       "      <td>...</td>\n",
       "      <td>...</td>\n",
       "    </tr>\n",
       "    <tr>\n",
       "      <th>17359</th>\n",
       "      <td>NaN</td>\n",
       "      <td>NaN</td>\n",
       "      <td>16/04/2020</td>\n",
       "      <td>NaN</td>\n",
       "      <td>NaN</td>\n",
       "      <td>NaN</td>\n",
       "      <td>NaN</td>\n",
       "      <td>NaN</td>\n",
       "      <td>Maharashtra</td>\n",
       "      <td>MH</td>\n",
       "      <td>...</td>\n",
       "      <td>Correction for district count</td>\n",
       "      <td>NaN</td>\n",
       "      <td>NaN</td>\n",
       "      <td>NaN</td>\n",
       "      <td>NaN</td>\n",
       "      <td>NaN</td>\n",
       "      <td>NaN</td>\n",
       "      <td>NaN</td>\n",
       "      <td>NaN</td>\n",
       "      <td>-2</td>\n",
       "    </tr>\n",
       "    <tr>\n",
       "      <th>17360</th>\n",
       "      <td>NaN</td>\n",
       "      <td>NaN</td>\n",
       "      <td>18/04/2020</td>\n",
       "      <td>NaN</td>\n",
       "      <td>NaN</td>\n",
       "      <td>NaN</td>\n",
       "      <td>NaN</td>\n",
       "      <td>Nagpur</td>\n",
       "      <td>Maharashtra</td>\n",
       "      <td>MH</td>\n",
       "      <td>...</td>\n",
       "      <td>Correction for district count</td>\n",
       "      <td>NaN</td>\n",
       "      <td>NaN</td>\n",
       "      <td>NaN</td>\n",
       "      <td>NaN</td>\n",
       "      <td>NaN</td>\n",
       "      <td>NaN</td>\n",
       "      <td>NaN</td>\n",
       "      <td>NaN</td>\n",
       "      <td>1</td>\n",
       "    </tr>\n",
       "    <tr>\n",
       "      <th>17361</th>\n",
       "      <td>NaN</td>\n",
       "      <td>NaN</td>\n",
       "      <td>18/04/2020</td>\n",
       "      <td>NaN</td>\n",
       "      <td>NaN</td>\n",
       "      <td>NaN</td>\n",
       "      <td>NaN</td>\n",
       "      <td>NaN</td>\n",
       "      <td>Maharashtra</td>\n",
       "      <td>MH</td>\n",
       "      <td>...</td>\n",
       "      <td>Correction for district count</td>\n",
       "      <td>NaN</td>\n",
       "      <td>NaN</td>\n",
       "      <td>NaN</td>\n",
       "      <td>NaN</td>\n",
       "      <td>NaN</td>\n",
       "      <td>NaN</td>\n",
       "      <td>NaN</td>\n",
       "      <td>NaN</td>\n",
       "      <td>-1</td>\n",
       "    </tr>\n",
       "    <tr>\n",
       "      <th>17362</th>\n",
       "      <td>NaN</td>\n",
       "      <td>NaN</td>\n",
       "      <td>19/04/2020</td>\n",
       "      <td>NaN</td>\n",
       "      <td>NaN</td>\n",
       "      <td>NaN</td>\n",
       "      <td>NaN</td>\n",
       "      <td>Nagpur</td>\n",
       "      <td>Maharashtra</td>\n",
       "      <td>MH</td>\n",
       "      <td>...</td>\n",
       "      <td>Correction for district count</td>\n",
       "      <td>NaN</td>\n",
       "      <td>NaN</td>\n",
       "      <td>NaN</td>\n",
       "      <td>NaN</td>\n",
       "      <td>NaN</td>\n",
       "      <td>NaN</td>\n",
       "      <td>NaN</td>\n",
       "      <td>NaN</td>\n",
       "      <td>10</td>\n",
       "    </tr>\n",
       "    <tr>\n",
       "      <th>17363</th>\n",
       "      <td>NaN</td>\n",
       "      <td>NaN</td>\n",
       "      <td>19/04/2020</td>\n",
       "      <td>NaN</td>\n",
       "      <td>NaN</td>\n",
       "      <td>NaN</td>\n",
       "      <td>NaN</td>\n",
       "      <td>NaN</td>\n",
       "      <td>Maharashtra</td>\n",
       "      <td>MH</td>\n",
       "      <td>...</td>\n",
       "      <td>Correction for district count</td>\n",
       "      <td>NaN</td>\n",
       "      <td>NaN</td>\n",
       "      <td>NaN</td>\n",
       "      <td>NaN</td>\n",
       "      <td>NaN</td>\n",
       "      <td>NaN</td>\n",
       "      <td>NaN</td>\n",
       "      <td>NaN</td>\n",
       "      <td>-10</td>\n",
       "    </tr>\n",
       "  </tbody>\n",
       "</table>\n",
       "<p>17364 rows × 21 columns</p>\n",
       "</div>"
      ],
      "text/plain": [
       "       Patient Number State Patient Number Date Announced  \\\n",
       "0                 1.0             KL-TS-P1     30/01/2020   \n",
       "1                 2.0             KL-AL-P1     02/02/2020   \n",
       "2                 3.0             KL-KS-P1     03/02/2020   \n",
       "3                 4.0                DL-P1     02/03/2020   \n",
       "4                 5.0                TS-P1     02/03/2020   \n",
       "...               ...                  ...            ...   \n",
       "17359             NaN                  NaN     16/04/2020   \n",
       "17360             NaN                  NaN     18/04/2020   \n",
       "17361             NaN                  NaN     18/04/2020   \n",
       "17362             NaN                  NaN     19/04/2020   \n",
       "17363             NaN                  NaN     19/04/2020   \n",
       "\n",
       "       Estimated Onset Date Age Bracket Gender             Detected City  \\\n",
       "0                       NaN          20      F                  Thrissur   \n",
       "1                       NaN         NaN    NaN                 Alappuzha   \n",
       "2                       NaN         NaN    NaN                 Kasaragod   \n",
       "3                       NaN          45      M  East Delhi (Mayur Vihar)   \n",
       "4                       NaN          24      M                 Hyderabad   \n",
       "...                     ...         ...    ...                       ...   \n",
       "17359                   NaN         NaN    NaN                       NaN   \n",
       "17360                   NaN         NaN    NaN                       NaN   \n",
       "17361                   NaN         NaN    NaN                       NaN   \n",
       "17362                   NaN         NaN    NaN                       NaN   \n",
       "17363                   NaN         NaN    NaN                       NaN   \n",
       "\n",
       "      Detected District Detected State State code  ...  \\\n",
       "0              Thrissur         Kerala         KL  ...   \n",
       "1             Alappuzha         Kerala         KL  ...   \n",
       "2             Kasaragod         Kerala         KL  ...   \n",
       "3            East Delhi          Delhi         DL  ...   \n",
       "4             Hyderabad      Telangana         TG  ...   \n",
       "...                 ...            ...        ...  ...   \n",
       "17359               NaN    Maharashtra         MH  ...   \n",
       "17360            Nagpur    Maharashtra         MH  ...   \n",
       "17361               NaN    Maharashtra         MH  ...   \n",
       "17362            Nagpur    Maharashtra         MH  ...   \n",
       "17363               NaN    Maharashtra         MH  ...   \n",
       "\n",
       "                                                   Notes  \\\n",
       "0                                   Travelled from Wuhan   \n",
       "1                                   Travelled from Wuhan   \n",
       "2                                   Travelled from Wuhan   \n",
       "3                          Travelled from Austria, Italy   \n",
       "4      Travelled from Dubai to Bangalore on 20th Feb,...   \n",
       "...                                                  ...   \n",
       "17359                      Correction for district count   \n",
       "17360                      Correction for district count   \n",
       "17361                      Correction for district count   \n",
       "17362                      Correction for district count   \n",
       "17363                      Correction for district count   \n",
       "\n",
       "      Contracted from which Patient (Suspected) Nationality  \\\n",
       "0                                           NaN       India   \n",
       "1                                           NaN       India   \n",
       "2                                           NaN       India   \n",
       "3                                           NaN       India   \n",
       "4                                           NaN       India   \n",
       "...                                         ...         ...   \n",
       "17359                                       NaN         NaN   \n",
       "17360                                       NaN         NaN   \n",
       "17361                                       NaN         NaN   \n",
       "17362                                       NaN         NaN   \n",
       "17363                                       NaN         NaN   \n",
       "\n",
       "      Type of transmission Status Change Date  \\\n",
       "0                 Imported         14/02/2020   \n",
       "1                 Imported         14/02/2020   \n",
       "2                 Imported         14/02/2020   \n",
       "3                 Imported         15/03/2020   \n",
       "4                 Imported         02/03/2020   \n",
       "...                    ...                ...   \n",
       "17359                  NaN                NaN   \n",
       "17360                  NaN                NaN   \n",
       "17361                  NaN                NaN   \n",
       "17362                  NaN                NaN   \n",
       "17363                  NaN                NaN   \n",
       "\n",
       "                                                Source_1  \\\n",
       "0      https://twitter.com/vijayanpinarayi/status/122...   \n",
       "1      https://www.indiatoday.in/india/story/kerala-r...   \n",
       "2      https://www.indiatoday.in/india/story/kerala-n...   \n",
       "3      https://www.indiatoday.in/india/story/not-a-ja...   \n",
       "4      https://www.deccanherald.com/national/south/qu...   \n",
       "...                                                  ...   \n",
       "17359                                                NaN   \n",
       "17360                                                NaN   \n",
       "17361                                                NaN   \n",
       "17362                                                NaN   \n",
       "17363                                                NaN   \n",
       "\n",
       "                                                Source_2  \\\n",
       "0      https://weather.com/en-IN/india/news/news/2020...   \n",
       "1      https://weather.com/en-IN/india/news/news/2020...   \n",
       "2      https://twitter.com/ANI/status/122422148580539...   \n",
       "3      https://economictimes.indiatimes.com/news/poli...   \n",
       "4      https://www.indiatoday.in/india/story/coronavi...   \n",
       "...                                                  ...   \n",
       "17359                                                NaN   \n",
       "17360                                                NaN   \n",
       "17361                                                NaN   \n",
       "17362                                                NaN   \n",
       "17363                                                NaN   \n",
       "\n",
       "                                                Source_3  \\\n",
       "0                                                    NaN   \n",
       "1                                                    NaN   \n",
       "2      https://weather.com/en-IN/india/news/news/2020...   \n",
       "3                                                    NaN   \n",
       "4      https://www.thehindu.com/news/national/coronav...   \n",
       "...                                                  ...   \n",
       "17359                                                NaN   \n",
       "17360                                                NaN   \n",
       "17361                                                NaN   \n",
       "17362                                                NaN   \n",
       "17363                                                NaN   \n",
       "\n",
       "                                     Backup Notes Num Cases  \n",
       "0                              Student from Wuhan         1  \n",
       "1                              Student from Wuhan         1  \n",
       "2                              Student from Wuhan         1  \n",
       "3             Travel history to Italy and Austria         1  \n",
       "4      Travel history to Dubai, Singapore contact         1  \n",
       "...                                           ...       ...  \n",
       "17359                                         NaN        -2  \n",
       "17360                                         NaN         1  \n",
       "17361                                         NaN        -1  \n",
       "17362                                         NaN        10  \n",
       "17363                                         NaN       -10  \n",
       "\n",
       "[17364 rows x 21 columns]"
      ]
     },
     "execution_count": 19,
     "metadata": {},
     "output_type": "execute_result"
    }
   ],
   "source": [
    "#data1 = pd.read_csv(\"http://api.covid19india.org/csv/latest/raw_data1.csv\")\n",
    "data1 = pd.read_csv(\"raw_data1.csv\")\n",
    "data1"
   ]
  },
  {
   "cell_type": "markdown",
   "metadata": {},
   "source": [
    "Get the data from all the pages"
   ]
  },
  {
   "cell_type": "code",
   "execution_count": 20,
   "metadata": {},
   "outputs": [],
   "source": [
    "data2 = pd.read_csv(\"raw_data2.csv\")\n",
    "data3 = pd.read_csv(\"raw_data3.csv\")\n",
    "data4 = pd.read_csv(\"raw_data4.csv\")\n",
    "data5 = pd.read_csv(\"raw_data5.csv\")\n",
    "data6 = pd.read_csv(\"raw_data6.csv\")\n",
    "data7 = pd.read_csv(\"raw_data7.csv\")\n",
    "data8 = pd.read_csv(\"raw_data8.csv\")\n",
    "data9 = pd.read_csv(\"raw_data9.csv\")\n",
    "data10 = pd.read_csv(\"raw_data10.csv\")\n",
    "data11 = pd.read_csv(\"raw_data11.csv\")\n",
    "data12 = pd.read_csv(\"raw_data12.csv\")\n"
   ]
  },
  {
   "cell_type": "markdown",
   "metadata": {},
   "source": [
    "Inspecting the data"
   ]
  },
  {
   "cell_type": "code",
   "execution_count": 21,
   "metadata": {
    "scrolled": true
   },
   "outputs": [
    {
     "name": "stdout",
     "output_type": "stream",
     "text": [
      "<class 'pandas.core.frame.DataFrame'>\n",
      "RangeIndex: 17364 entries, 0 to 17363\n",
      "Data columns (total 21 columns):\n",
      "Patient Number                               17306 non-null float64\n",
      "State Patient Number                         2457 non-null object\n",
      "Date Announced                               17364 non-null object\n",
      "Estimated Onset Date                         0 non-null float64\n",
      "Age Bracket                                  1670 non-null object\n",
      "Gender                                       3746 non-null object\n",
      "Detected City                                2166 non-null object\n",
      "Detected District                            14978 non-null object\n",
      "Detected State                               17363 non-null object\n",
      "State code                                   17363 non-null object\n",
      "Current Status                               17364 non-null object\n",
      "Notes                                        16046 non-null object\n",
      "Contracted from which Patient (Suspected)    1537 non-null object\n",
      "Nationality                                  1554 non-null object\n",
      "Type of transmission                         2951 non-null object\n",
      "Status Change Date                           17195 non-null object\n",
      "Source_1                                     17075 non-null object\n",
      "Source_2                                     3396 non-null object\n",
      "Source_3                                     445 non-null object\n",
      "Backup Notes                                 361 non-null object\n",
      "Num Cases                                    17364 non-null int64\n",
      "dtypes: float64(2), int64(1), object(18)\n",
      "memory usage: 2.8+ MB\n"
     ]
    }
   ],
   "source": [
    "data1.info()"
   ]
  },
  {
   "cell_type": "markdown",
   "metadata": {},
   "source": [
    "check the coulumns "
   ]
  },
  {
   "cell_type": "code",
   "execution_count": 26,
   "metadata": {
    "scrolled": false
   },
   "outputs": [
    {
     "data": {
      "text/plain": [
       "Index(['Patient Number', 'State Patient Number', 'Date Announced',\n",
       "       'Estimated Onset Date', 'Age Bracket', 'Gender', 'Detected City',\n",
       "       'Detected District', 'Detected State', 'State code', 'Current Status',\n",
       "       'Notes', 'Contracted from which Patient (Suspected)', 'Nationality',\n",
       "       'Type of transmission', 'Status Change Date', 'Source_1', 'Source_2',\n",
       "       'Source_3', 'Backup Notes', 'Num Cases'],\n",
       "      dtype='object')"
      ]
     },
     "execution_count": 26,
     "metadata": {},
     "output_type": "execute_result"
    }
   ],
   "source": [
    "data1.columns"
   ]
  },
  {
   "cell_type": "markdown",
   "metadata": {},
   "source": [
    "Match all the columns"
   ]
  },
  {
   "cell_type": "code",
   "execution_count": 27,
   "metadata": {},
   "outputs": [],
   "source": [
    "data1 = data1.rename(columns={\"Num cases\":\"Num Cases\"})\n",
    "data2 = data2.rename(columns={\"Num cases\":\"Num Cases\"})"
   ]
  },
  {
   "cell_type": "markdown",
   "metadata": {},
   "source": [
    "Retain Necessary colums"
   ]
  },
  {
   "cell_type": "code",
   "execution_count": 28,
   "metadata": {},
   "outputs": [],
   "source": [
    "df1 = data1.loc[:,['Num Cases','Date Announced','Age Bracket', 'Gender', 'Detected City','Detected District', 'Detected State','Current Status']]\n",
    "df2 = data2.loc[:,['Num Cases','Date Announced','Age Bracket', 'Gender', 'Detected City','Detected District', 'Detected State','Current Status']]\n",
    "df3 = data3.loc[:,['Num Cases','Date Announced','Age Bracket', 'Gender', 'Detected City','Detected District', 'Detected State','Current Status']]\n",
    "df4 = data4.loc[:,['Num Cases','Date Announced','Age Bracket', 'Gender', 'Detected City','Detected District', 'Detected State','Current Status']]\n",
    "df5 = data5.loc[:,['Num Cases','Date Announced','Age Bracket', 'Gender', 'Detected City','Detected District', 'Detected State','Current Status']]\n",
    "df6 = data6.loc[:,['Num Cases','Date Announced','Age Bracket', 'Gender', 'Detected City','Detected District', 'Detected State','Current Status']]\n",
    "df7 = data7.loc[:,['Num Cases','Date Announced','Age Bracket', 'Gender', 'Detected City','Detected District', 'Detected State','Current Status']]\n",
    "df8 = data8.loc[:,['Num Cases','Date Announced','Age Bracket', 'Gender', 'Detected City','Detected District', 'Detected State','Current Status']]\n",
    "df9 = data9.loc[:,['Num Cases','Date Announced','Age Bracket', 'Gender', 'Detected City','Detected District', 'Detected State','Current Status']]\n",
    "df10 = data10.loc[:,['Num Cases','Date Announced','Age Bracket', 'Gender', 'Detected City','Detected District', 'Detected State','Current Status']]\n",
    "df11 = data11.loc[:,['Num Cases','Date Announced','Age Bracket', 'Gender', 'Detected City','Detected District', 'Detected State','Current Status']]\n",
    "df12 = data12.loc[:,['Num Cases','Date Announced','Age Bracket', 'Gender', 'Detected City','Detected District', 'Detected State','Current Status']]\n"
   ]
  },
  {
   "cell_type": "markdown",
   "metadata": {},
   "source": [
    "Merging Data "
   ]
  },
  {
   "cell_type": "code",
   "execution_count": 29,
   "metadata": {},
   "outputs": [],
   "source": [
    "data  = df1.append([df2,df3 , df4 , df5 , df6 , df7 , df8,df9,df10,df11,df12] )"
   ]
  },
  {
   "cell_type": "code",
   "execution_count": 30,
   "metadata": {
    "scrolled": true
   },
   "outputs": [
    {
     "name": "stdout",
     "output_type": "stream",
     "text": [
      "<class 'pandas.core.frame.DataFrame'>\n",
      "Int64Index: 238071 entries, 0 to 13171\n",
      "Data columns (total 8 columns):\n",
      "Num Cases            238061 non-null float64\n",
      "Date Announced       238070 non-null object\n",
      "Age Bracket          107121 non-null object\n",
      "Gender               109899 non-null object\n",
      "Detected City        11752 non-null object\n",
      "Detected District    229037 non-null object\n",
      "Detected State       238055 non-null object\n",
      "Current Status       238062 non-null object\n",
      "dtypes: float64(1), object(7)\n",
      "memory usage: 16.3+ MB\n"
     ]
    }
   ],
   "source": [
    "data.info()"
   ]
  },
  {
   "cell_type": "code",
   "execution_count": 31,
   "metadata": {},
   "outputs": [
    {
     "data": {
      "text/plain": [
       "0        30/01/2020\n",
       "1        02/02/2020\n",
       "2        03/02/2020\n",
       "3        02/03/2020\n",
       "4        02/03/2020\n",
       "            ...    \n",
       "13167    31/07/2020\n",
       "13168    31/07/2020\n",
       "13169    31/07/2020\n",
       "13170    31/07/2020\n",
       "13171    31/07/2020\n",
       "Name: Date Announced, Length: 238071, dtype: object"
      ]
     },
     "execution_count": 31,
     "metadata": {},
     "output_type": "execute_result"
    }
   ],
   "source": [
    "data['Date Announced']"
   ]
  },
  {
   "cell_type": "code",
   "execution_count": null,
   "metadata": {},
   "outputs": [],
   "source": []
  },
  {
   "cell_type": "markdown",
   "metadata": {},
   "source": [
    "Making seperate coloumns for Day , Month and Year"
   ]
  },
  {
   "cell_type": "code",
   "execution_count": 32,
   "metadata": {},
   "outputs": [],
   "source": [
    "Date = data['Date Announced'].str.split('/',expand=True)\n",
    "Date.columns = ['Day','Month','Year']"
   ]
  },
  {
   "cell_type": "markdown",
   "metadata": {},
   "source": [
    "Concat these columns in orignal data"
   ]
  },
  {
   "cell_type": "code",
   "execution_count": 33,
   "metadata": {
    "scrolled": false
   },
   "outputs": [
    {
     "name": "stdout",
     "output_type": "stream",
     "text": [
      "<class 'pandas.core.frame.DataFrame'>\n",
      "Int64Index: 238071 entries, 0 to 13171\n",
      "Data columns (total 11 columns):\n",
      "Num Cases            238061 non-null float64\n",
      "Date Announced       238070 non-null object\n",
      "Age Bracket          107121 non-null object\n",
      "Gender               109899 non-null object\n",
      "Detected City        11752 non-null object\n",
      "Detected District    229037 non-null object\n",
      "Detected State       238055 non-null object\n",
      "Current Status       238062 non-null object\n",
      "Day                  238070 non-null object\n",
      "Month                238070 non-null object\n",
      "Year                 238070 non-null object\n",
      "dtypes: float64(1), object(10)\n",
      "memory usage: 21.8+ MB\n"
     ]
    }
   ],
   "source": [
    "data = pd.concat([data, Date],axis=1)\n",
    "data.info()"
   ]
  },
  {
   "cell_type": "markdown",
   "metadata": {},
   "source": [
    "Save data in another file"
   ]
  },
  {
   "cell_type": "code",
   "execution_count": 34,
   "metadata": {},
   "outputs": [],
   "source": [
    "data.to_csv(\"Covid19India.csv\")\n"
   ]
  },
  {
   "cell_type": "markdown",
   "metadata": {},
   "source": [
    "Read the new Data"
   ]
  },
  {
   "cell_type": "code",
   "execution_count": 35,
   "metadata": {},
   "outputs": [],
   "source": [
    "Data = pd.read_csv(\"Covid19India.csv\")"
   ]
  },
  {
   "cell_type": "markdown",
   "metadata": {},
   "source": [
    "Get the coulumns"
   ]
  },
  {
   "cell_type": "code",
   "execution_count": 36,
   "metadata": {},
   "outputs": [
    {
     "data": {
      "text/plain": [
       "Index(['Unnamed: 0', 'Num Cases', 'Date Announced', 'Age Bracket', 'Gender',\n",
       "       'Detected City', 'Detected District', 'Detected State',\n",
       "       'Current Status', 'Day', 'Month', 'Year'],\n",
       "      dtype='object')"
      ]
     },
     "execution_count": 36,
     "metadata": {},
     "output_type": "execute_result"
    }
   ],
   "source": [
    "Data.columns"
   ]
  },
  {
   "cell_type": "markdown",
   "metadata": {},
   "source": [
    "Removing Index(1st columns) "
   ]
  },
  {
   "cell_type": "code",
   "execution_count": 37,
   "metadata": {},
   "outputs": [],
   "source": [
    "Data = Data.iloc[:,1:]"
   ]
  },
  {
   "cell_type": "markdown",
   "metadata": {},
   "source": [
    "Inspecting Data"
   ]
  },
  {
   "cell_type": "code",
   "execution_count": 29,
   "metadata": {},
   "outputs": [
    {
     "name": "stdout",
     "output_type": "stream",
     "text": [
      "<class 'pandas.core.frame.DataFrame'>\n",
      "RangeIndex: 145859 entries, 0 to 145858\n",
      "Data columns (total 11 columns):\n",
      "Num Cases            145856 non-null float64\n",
      "Date Announced       145859 non-null object\n",
      "Age Bracket          60013 non-null object\n",
      "Gender               62808 non-null object\n",
      "Detected City        10949 non-null object\n",
      "Detected District    137460 non-null object\n",
      "Detected State       145850 non-null object\n",
      "Current Status       145857 non-null object\n",
      "Day                  145859 non-null int64\n",
      "Month                145859 non-null int64\n",
      "Year                 145859 non-null int64\n",
      "dtypes: float64(1), int64(3), object(7)\n",
      "memory usage: 12.2+ MB\n"
     ]
    }
   ],
   "source": [
    "Data.info()"
   ]
  },
  {
   "cell_type": "markdown",
   "metadata": {},
   "source": [
    "Inspect Nan values of each columns"
   ]
  },
  {
   "cell_type": "code",
   "execution_count": 38,
   "metadata": {},
   "outputs": [
    {
     "data": {
      "text/plain": [
       "Detected City        226319\n",
       "Age Bracket          130950\n",
       "Gender               128172\n",
       "Detected District      9034\n",
       "Detected State           16\n",
       "Num Cases                10\n",
       "Current Status            9\n",
       "Year                      1\n",
       "Month                     1\n",
       "Day                       1\n",
       "Date Announced            1\n",
       "dtype: int64"
      ]
     },
     "execution_count": 38,
     "metadata": {},
     "output_type": "execute_result"
    }
   ],
   "source": [
    "Data.isnull().sum().sort_values(ascending = False)"
   ]
  },
  {
   "cell_type": "markdown",
   "metadata": {},
   "source": [
    "Get the missing values in percentage"
   ]
  },
  {
   "cell_type": "code",
   "execution_count": 39,
   "metadata": {},
   "outputs": [
    {
     "data": {
      "text/plain": [
       "Detected City        95.063657\n",
       "Age Bracket          55.004599\n",
       "Gender               53.837721\n",
       "Detected District     3.794666\n",
       "Detected State        0.006721\n",
       "Num Cases             0.004200\n",
       "Current Status        0.003780\n",
       "Year                  0.000420\n",
       "Month                 0.000420\n",
       "Day                   0.000420\n",
       "Date Announced        0.000420\n",
       "dtype: float64"
      ]
     },
     "execution_count": 39,
     "metadata": {},
     "output_type": "execute_result"
    }
   ],
   "source": [
    "Data.isnull().sum().sort_values(ascending=False)/len(Data) * 100"
   ]
  },
  {
   "cell_type": "markdown",
   "metadata": {},
   "source": [
    "Total covid Cases month Vise"
   ]
  },
  {
   "cell_type": "code",
   "execution_count": 40,
   "metadata": {},
   "outputs": [
    {
     "data": {
      "text/plain": [
       "Month\n",
       "1.0          1.0\n",
       "2.0          2.0\n",
       "3.0       1635.0\n",
       "4.0      36078.0\n",
       "5.0     242853.0\n",
       "6.0     663178.0\n",
       "7.0    1878572.0\n",
       "Name: Num Cases, dtype: float64"
      ]
     },
     "execution_count": 40,
     "metadata": {},
     "output_type": "execute_result"
    }
   ],
   "source": [
    "Data.groupby('Month')['Num Cases'].sum()\n"
   ]
  },
  {
   "cell_type": "code",
   "execution_count": 41,
   "metadata": {},
   "outputs": [
    {
     "data": {
      "text/plain": [
       "Month\n",
       "3.0       1431.0\n",
       "4.0      33208.0\n",
       "5.0     155781.0\n",
       "6.0     395144.0\n",
       "7.0    1111262.0\n",
       "Name: Num Cases, dtype: float64"
      ]
     },
     "execution_count": 41,
     "metadata": {},
     "output_type": "execute_result"
    }
   ],
   "source": [
    "Data[Data['Current Status']=='Hospitalized'].groupby('Month')['Num Cases'].sum()"
   ]
  },
  {
   "cell_type": "code",
   "execution_count": 42,
   "metadata": {},
   "outputs": [
    {
     "data": {
      "image/png": "[encoded data removed]",
      "text/plain": [
       "<Figure size 432x288 with 1 Axes>"
      ]
     },
     "metadata": {
      "needs_background": "light"
     },
     "output_type": "display_data"
    }
   ],
   "source": [
    "m = Data[Data['Current Status']=='Hospitalized'].groupby('Month')['Num Cases'].sum()\n",
    "m.plot.bar()\n",
    "plt.show()"
   ]
  },
  {
   "cell_type": "markdown",
   "metadata": {},
   "source": [
    "Total Male / Female infected with CronaVirus"
   ]
  },
  {
   "cell_type": "code",
   "execution_count": 43,
   "metadata": {},
   "outputs": [
    {
     "data": {
      "text/plain": [
       "Gender\n",
       "F             38608.0\n",
       "Femal e           1.0\n",
       "M             72657.0\n",
       "M                 1.0\n",
       "M,                1.0\n",
       "Non-Binary       17.0\n",
       "Name: Num Cases, dtype: float64"
      ]
     },
     "execution_count": 43,
     "metadata": {},
     "output_type": "execute_result"
    }
   ],
   "source": [
    "Data.groupby('Gender')['Num Cases'].sum()"
   ]
  },
  {
   "cell_type": "markdown",
   "metadata": {},
   "source": [
    "Which age group is infected Most?\n"
   ]
  },
  {
   "cell_type": "code",
   "execution_count": 44,
   "metadata": {},
   "outputs": [
    {
     "data": {
      "text/plain": [
       "Age Bracket\n",
       "30.0        1910.0\n",
       "30          1712.0\n",
       "40.0        1694.0\n",
       "35.0        1620.0\n",
       "35          1594.0\n",
       "             ...  \n",
       "5 Months       1.0\n",
       "4.5            1.0\n",
       "29.6           1.0\n",
       "2.4            1.0\n",
       "99.0           1.0\n",
       "Name: Num Cases, Length: 236, dtype: float64"
      ]
     },
     "execution_count": 44,
     "metadata": {},
     "output_type": "execute_result"
    }
   ],
   "source": [
    "Data.groupby('Age Bracket')['Num Cases'].sum().sort_values(ascending=False)"
   ]
  },
  {
   "cell_type": "code",
   "execution_count": 45,
   "metadata": {},
   "outputs": [
    {
     "data": {
      "image/png": "[encoded data removed]",
      "text/plain": [
       "<Figure size 1080x360 with 1 Axes>"
      ]
     },
     "metadata": {
      "needs_background": "light"
     },
     "output_type": "display_data"
    }
   ],
   "source": [
    "m = Data.groupby('Age Bracket')['Num Cases'].sum().sort_values(ascending=False).head(10)\n",
    "m.plot.bar(figsize=(15,5))\n",
    "plt.show()"
   ]
  },
  {
   "cell_type": "markdown",
   "metadata": {},
   "source": [
    "Check state wise Total case in india"
   ]
  },
  {
   "cell_type": "code",
   "execution_count": 46,
   "metadata": {},
   "outputs": [
    {
     "data": {
      "text/plain": [
       "Detected State\n",
       "Andaman and Nicobar Islands                    537.0\n",
       "Andhra Pradesh                              140931.0\n",
       "Arunachal Pradesh                             1591.0\n",
       "Assam                                        40270.0\n",
       "Bihar                                        50986.0\n",
       "Chandigarh                                    1051.0\n",
       "Chhattisgarh                                  9184.0\n",
       "Dadra and Nagar Haveli and Daman and Diu      1149.0\n",
       "Delhi                                       135594.0\n",
       "Goa                                           5913.0\n",
       "Gujarat                                      61433.0\n",
       "Haryana                                      34953.0\n",
       "Himachal Pradesh                              2562.0\n",
       "Jammu and Kashmir                            20358.0\n",
       "Jharkhand                                    11314.0\n",
       "Karnataka                                   124042.0\n",
       "Kerala                                       23553.0\n",
       "Ladakh                                        1404.0\n",
       "Madhya Pradesh                               31804.0\n",
       "Maharashtra                                 422104.0\n",
       "Manipur                                       2620.0\n",
       "Meghalaya                                      823.0\n",
       "Mizoram                                        408.0\n",
       "Nagaland                                      1693.0\n",
       "Odisha                                       31876.0\n",
       "Puducherry                                    3472.0\n",
       "Punjab                                       16117.0\n",
       "Rajasthan                                    42079.0\n",
       "Sikkim                                         639.0\n",
       "State Unassigned                                 0.0\n",
       "Tamil Nadu                                  245852.0\n",
       "Telangana                                    62701.0\n",
       "Tripura                                       4996.0\n",
       "Uttar Pradesh                                85452.0\n",
       "Uttarakhand                                   7182.0\n",
       "West Bengal                                  70182.0\n",
       "Name: Num Cases, dtype: float64"
      ]
     },
     "execution_count": 46,
     "metadata": {},
     "output_type": "execute_result"
    }
   ],
   "source": [
    "Data[Data['Current Status']=='Hospitalized'].groupby('Detected State')['Num Cases'].sum()"
   ]
  },
  {
   "cell_type": "code",
   "execution_count": 48,
   "metadata": {},
   "outputs": [
    {
     "data": {
      "image/png": "[encoded data removed]",
      "text/plain": [
       "<Figure size 1080x360 with 1 Axes>"
      ]
     },
     "metadata": {
      "needs_background": "light"
     },
     "output_type": "display_data"
    }
   ],
   "source": [
    "m = Data[Data['Current Status']=='Hospitalized'].groupby('Detected State')['Num Cases'].sum().sort_values(ascending=False)\n",
    "m.plot.bar(figsize=(15,5))\n",
    "plt.show()"
   ]
  },
  {
   "cell_type": "markdown",
   "metadata": {},
   "source": [
    "How many cases EveryDay"
   ]
  },
  {
   "cell_type": "code",
   "execution_count": 49,
   "metadata": {},
   "outputs": [
    {
     "data": {
      "text/plain": [
       "Month  Day \n",
       "3.0    4.0         5.0\n",
       "       5.0         1.0\n",
       "       7.0         2.0\n",
       "       9.0         4.0\n",
       "       10.0        4.0\n",
       "                ...   \n",
       "7.0    27.0    46484.0\n",
       "       28.0    49631.0\n",
       "       29.0    52479.0\n",
       "       30.0    54968.0\n",
       "       31.0    57486.0\n",
       "Name: Num Cases, Length: 148, dtype: float64"
      ]
     },
     "execution_count": 49,
     "metadata": {},
     "output_type": "execute_result"
    }
   ],
   "source": [
    "Data[Data['Current Status']=='Hospitalized'].groupby(['Month','Day'])['Num Cases'].sum()\n",
    "\n"
   ]
  },
  {
   "cell_type": "code",
   "execution_count": 50,
   "metadata": {},
   "outputs": [
    {
     "name": "stderr",
     "output_type": "stream",
     "text": [
      "/home/aman/.local/lib/python3.6/site-packages/pandas/plotting/_matplotlib/tools.py:307: MatplotlibDeprecationWarning: \n",
      "The rowNum attribute was deprecated in Matplotlib 3.2 and will be removed two minor releases later. Use ax.get_subplotspec().rowspan.start instead.\n",
      "  layout[ax.rowNum, ax.colNum] = ax.get_visible()\n",
      "/home/aman/.local/lib/python3.6/site-packages/pandas/plotting/_matplotlib/tools.py:307: MatplotlibDeprecationWarning: \n",
      "The colNum attribute was deprecated in Matplotlib 3.2 and will be removed two minor releases later. Use ax.get_subplotspec().colspan.start instead.\n",
      "  layout[ax.rowNum, ax.colNum] = ax.get_visible()\n",
      "/home/aman/.local/lib/python3.6/site-packages/pandas/plotting/_matplotlib/tools.py:313: MatplotlibDeprecationWarning: \n",
      "The rowNum attribute was deprecated in Matplotlib 3.2 and will be removed two minor releases later. Use ax.get_subplotspec().rowspan.start instead.\n",
      "  if not layout[ax.rowNum + 1, ax.colNum]:\n",
      "/home/aman/.local/lib/python3.6/site-packages/pandas/plotting/_matplotlib/tools.py:313: MatplotlibDeprecationWarning: \n",
      "The colNum attribute was deprecated in Matplotlib 3.2 and will be removed two minor releases later. Use ax.get_subplotspec().colspan.start instead.\n",
      "  if not layout[ax.rowNum + 1, ax.colNum]:\n"
     ]
    },
    {
     "data": {
      "image/png": "[encoded data removed]",
      "text/plain": [
       "<Figure size 720x720 with 5 Axes>"
      ]
     },
     "metadata": {
      "needs_background": "light"
     },
     "output_type": "display_data"
    }
   ],
   "source": [
    "m = Data[Data['Current Status']=='Hospitalized'].groupby(['Month','Day'])['Num Cases'].sum()\n",
    "m.unstack(level=0).plot(kind='bar',subplots=True,figsize=(10,10))\n",
    "plt.show()"
   ]
  },
  {
   "cell_type": "code",
   "execution_count": null,
   "metadata": {},
   "outputs": [],
   "source": []
  },
  {
   "cell_type": "code",
   "execution_count": null,
   "metadata": {},
   "outputs": [],
   "source": []
  },
  {
   "cell_type": "code",
   "execution_count": null,
   "metadata": {},
   "outputs": [],
   "source": []
  },
  {
   "cell_type": "code",
   "execution_count": null,
   "metadata": {},
   "outputs": [],
   "source": []
  },
  {
   "cell_type": "code",
   "execution_count": null,
   "metadata": {},
   "outputs": [],
   "source": []
  },
  {
   "cell_type": "code",
   "execution_count": null,
   "metadata": {},
   "outputs": [],
   "source": []
  }
 ],
 "metadata": {
  "kernelspec": {
   "display_name": "Python 3",
   "language": "python",
   "name": "python3"
  },
  "language_info": {
   "codemirror_mode": {
    "name": "ipython",
    "version": 3
   },
   "file_extension": ".py",
   "mimetype": "text/x-python",
   "name": "python",
   "nbconvert_exporter": "python",
   "pygments_lexer": "ipython3",
   "version": "3.6.9"
  }
 },
 "nbformat": 4,
 "nbformat_minor": 2
}
